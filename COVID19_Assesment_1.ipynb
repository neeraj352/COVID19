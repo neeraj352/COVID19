{
 "cells": [
  {
   "cell_type": "markdown",
   "metadata": {},
   "source": [
    "## Prediction of icu need based on the COVID_19 Data_set"
   ]
  },
  {
   "cell_type": "markdown",
   "metadata": {},
   "source": [
    "#### Importing General use libraries"
   ]
  },
  {
   "cell_type": "code",
   "execution_count": 1,
   "metadata": {},
   "outputs": [],
   "source": [
    "import pandas as pd\n",
    "import numpy as np\n",
    "import matplotlib.pyplot as plt\n",
    "import seaborn as sns\n",
    "import warnings\n",
    "from datetime import datetime\n",
    "import datetime as dt\n",
    "warnings.filterwarnings(\"ignore\")\n",
    "%matplotlib inline"
   ]
  },
  {
   "cell_type": "code",
   "execution_count": 2,
   "metadata": {},
   "outputs": [],
   "source": [
    "#Reading the CSV file"
   ]
  },
  {
   "cell_type": "code",
   "execution_count": 3,
   "metadata": {},
   "outputs": [
    {
     "data": {
      "text/html": [
       "<div>\n",
       "<style scoped>\n",
       "    .dataframe tbody tr th:only-of-type {\n",
       "        vertical-align: middle;\n",
       "    }\n",
       "\n",
       "    .dataframe tbody tr th {\n",
       "        vertical-align: top;\n",
       "    }\n",
       "\n",
       "    .dataframe thead th {\n",
       "        text-align: right;\n",
       "    }\n",
       "</style>\n",
       "<table border=\"1\" class=\"dataframe\">\n",
       "  <thead>\n",
       "    <tr style=\"text-align: right;\">\n",
       "      <th></th>\n",
       "      <th>id</th>\n",
       "      <th>sex</th>\n",
       "      <th>patient_type</th>\n",
       "      <th>entry_date</th>\n",
       "      <th>date_symptoms</th>\n",
       "      <th>date_died</th>\n",
       "      <th>intubed</th>\n",
       "      <th>pneumonia</th>\n",
       "      <th>age</th>\n",
       "      <th>pregnancy</th>\n",
       "      <th>...</th>\n",
       "      <th>inmsupr</th>\n",
       "      <th>hypertension</th>\n",
       "      <th>other_disease</th>\n",
       "      <th>cardiovascular</th>\n",
       "      <th>obesity</th>\n",
       "      <th>renal_chronic</th>\n",
       "      <th>tobacco</th>\n",
       "      <th>contact_other_covid</th>\n",
       "      <th>covid_res</th>\n",
       "      <th>icu</th>\n",
       "    </tr>\n",
       "  </thead>\n",
       "  <tbody>\n",
       "    <tr>\n",
       "      <th>0</th>\n",
       "      <td>16169f</td>\n",
       "      <td>2</td>\n",
       "      <td>1</td>\n",
       "      <td>4/5/2020</td>\n",
       "      <td>2/5/2020</td>\n",
       "      <td>9999-99-99</td>\n",
       "      <td>97</td>\n",
       "      <td>2</td>\n",
       "      <td>27</td>\n",
       "      <td>97</td>\n",
       "      <td>...</td>\n",
       "      <td>2</td>\n",
       "      <td>2</td>\n",
       "      <td>2</td>\n",
       "      <td>2</td>\n",
       "      <td>2</td>\n",
       "      <td>2</td>\n",
       "      <td>2</td>\n",
       "      <td>2</td>\n",
       "      <td>1</td>\n",
       "      <td>97</td>\n",
       "    </tr>\n",
       "    <tr>\n",
       "      <th>1</th>\n",
       "      <td>1009bf</td>\n",
       "      <td>2</td>\n",
       "      <td>1</td>\n",
       "      <td>19-03-2020</td>\n",
       "      <td>17-03-2020</td>\n",
       "      <td>9999-99-99</td>\n",
       "      <td>97</td>\n",
       "      <td>2</td>\n",
       "      <td>24</td>\n",
       "      <td>97</td>\n",
       "      <td>...</td>\n",
       "      <td>2</td>\n",
       "      <td>2</td>\n",
       "      <td>2</td>\n",
       "      <td>2</td>\n",
       "      <td>2</td>\n",
       "      <td>2</td>\n",
       "      <td>2</td>\n",
       "      <td>99</td>\n",
       "      <td>1</td>\n",
       "      <td>97</td>\n",
       "    </tr>\n",
       "    <tr>\n",
       "      <th>2</th>\n",
       "      <td>167386</td>\n",
       "      <td>1</td>\n",
       "      <td>2</td>\n",
       "      <td>6/4/2020</td>\n",
       "      <td>1/4/2020</td>\n",
       "      <td>9999-99-99</td>\n",
       "      <td>2</td>\n",
       "      <td>2</td>\n",
       "      <td>54</td>\n",
       "      <td>2</td>\n",
       "      <td>...</td>\n",
       "      <td>2</td>\n",
       "      <td>2</td>\n",
       "      <td>2</td>\n",
       "      <td>2</td>\n",
       "      <td>1</td>\n",
       "      <td>2</td>\n",
       "      <td>2</td>\n",
       "      <td>99</td>\n",
       "      <td>1</td>\n",
       "      <td>2</td>\n",
       "    </tr>\n",
       "    <tr>\n",
       "      <th>3</th>\n",
       "      <td>0b5948</td>\n",
       "      <td>2</td>\n",
       "      <td>2</td>\n",
       "      <td>17-04-2020</td>\n",
       "      <td>10/4/2020</td>\n",
       "      <td>9999-99-99</td>\n",
       "      <td>2</td>\n",
       "      <td>1</td>\n",
       "      <td>30</td>\n",
       "      <td>97</td>\n",
       "      <td>...</td>\n",
       "      <td>2</td>\n",
       "      <td>2</td>\n",
       "      <td>2</td>\n",
       "      <td>2</td>\n",
       "      <td>2</td>\n",
       "      <td>2</td>\n",
       "      <td>2</td>\n",
       "      <td>99</td>\n",
       "      <td>1</td>\n",
       "      <td>2</td>\n",
       "    </tr>\n",
       "    <tr>\n",
       "      <th>4</th>\n",
       "      <td>0d01b5</td>\n",
       "      <td>1</td>\n",
       "      <td>2</td>\n",
       "      <td>13-04-2020</td>\n",
       "      <td>13-04-2020</td>\n",
       "      <td>22-04-2020</td>\n",
       "      <td>2</td>\n",
       "      <td>2</td>\n",
       "      <td>60</td>\n",
       "      <td>2</td>\n",
       "      <td>...</td>\n",
       "      <td>2</td>\n",
       "      <td>1</td>\n",
       "      <td>2</td>\n",
       "      <td>1</td>\n",
       "      <td>2</td>\n",
       "      <td>2</td>\n",
       "      <td>2</td>\n",
       "      <td>99</td>\n",
       "      <td>1</td>\n",
       "      <td>2</td>\n",
       "    </tr>\n",
       "  </tbody>\n",
       "</table>\n",
       "<p>5 rows × 23 columns</p>\n",
       "</div>"
      ],
      "text/plain": [
       "       id  sex  patient_type  entry_date date_symptoms   date_died  intubed  \\\n",
       "0  16169f    2             1    4/5/2020      2/5/2020  9999-99-99       97   \n",
       "1  1009bf    2             1  19-03-2020    17-03-2020  9999-99-99       97   \n",
       "2  167386    1             2    6/4/2020      1/4/2020  9999-99-99        2   \n",
       "3  0b5948    2             2  17-04-2020     10/4/2020  9999-99-99        2   \n",
       "4  0d01b5    1             2  13-04-2020    13-04-2020  22-04-2020        2   \n",
       "\n",
       "   pneumonia  age  pregnancy  ...  inmsupr  hypertension  other_disease  \\\n",
       "0          2   27         97  ...        2             2              2   \n",
       "1          2   24         97  ...        2             2              2   \n",
       "2          2   54          2  ...        2             2              2   \n",
       "3          1   30         97  ...        2             2              2   \n",
       "4          2   60          2  ...        2             1              2   \n",
       "\n",
       "   cardiovascular  obesity  renal_chronic  tobacco  contact_other_covid  \\\n",
       "0               2        2              2        2                    2   \n",
       "1               2        2              2        2                   99   \n",
       "2               2        1              2        2                   99   \n",
       "3               2        2              2        2                   99   \n",
       "4               1        2              2        2                   99   \n",
       "\n",
       "   covid_res  icu  \n",
       "0          1   97  \n",
       "1          1   97  \n",
       "2          1    2  \n",
       "3          1    2  \n",
       "4          1    2  \n",
       "\n",
       "[5 rows x 23 columns]"
      ]
     },
     "execution_count": 3,
     "metadata": {},
     "output_type": "execute_result"
    }
   ],
   "source": [
    "df = pd.read_csv(\"covid.csv\")\n",
    "df.head()"
   ]
  },
  {
   "cell_type": "markdown",
   "metadata": {},
   "source": [
    "#Analysing the data_set"
   ]
  },
  {
   "cell_type": "code",
   "execution_count": 4,
   "metadata": {},
   "outputs": [
    {
     "data": {
      "text/plain": [
       "(566602, 23)"
      ]
     },
     "execution_count": 4,
     "metadata": {},
     "output_type": "execute_result"
    }
   ],
   "source": [
    "df.shape"
   ]
  },
  {
   "cell_type": "code",
   "execution_count": 5,
   "metadata": {},
   "outputs": [
    {
     "data": {
      "text/plain": [
       "id                     0\n",
       "sex                    0\n",
       "patient_type           0\n",
       "entry_date             0\n",
       "date_symptoms          0\n",
       "date_died              0\n",
       "intubed                0\n",
       "pneumonia              0\n",
       "age                    0\n",
       "pregnancy              0\n",
       "diabetes               0\n",
       "copd                   0\n",
       "asthma                 0\n",
       "inmsupr                0\n",
       "hypertension           0\n",
       "other_disease          0\n",
       "cardiovascular         0\n",
       "obesity                0\n",
       "renal_chronic          0\n",
       "tobacco                0\n",
       "contact_other_covid    0\n",
       "covid_res              0\n",
       "icu                    0\n",
       "dtype: int64"
      ]
     },
     "execution_count": 5,
     "metadata": {},
     "output_type": "execute_result"
    }
   ],
   "source": [
    "df.isnull().sum()"
   ]
  },
  {
   "cell_type": "code",
   "execution_count": 6,
   "metadata": {},
   "outputs": [
    {
     "data": {
      "text/html": [
       "<div>\n",
       "<style scoped>\n",
       "    .dataframe tbody tr th:only-of-type {\n",
       "        vertical-align: middle;\n",
       "    }\n",
       "\n",
       "    .dataframe tbody tr th {\n",
       "        vertical-align: top;\n",
       "    }\n",
       "\n",
       "    .dataframe thead th {\n",
       "        text-align: right;\n",
       "    }\n",
       "</style>\n",
       "<table border=\"1\" class=\"dataframe\">\n",
       "  <thead>\n",
       "    <tr style=\"text-align: right;\">\n",
       "      <th></th>\n",
       "      <th>sex</th>\n",
       "      <th>patient_type</th>\n",
       "      <th>intubed</th>\n",
       "      <th>pneumonia</th>\n",
       "      <th>age</th>\n",
       "      <th>pregnancy</th>\n",
       "      <th>diabetes</th>\n",
       "      <th>copd</th>\n",
       "      <th>asthma</th>\n",
       "      <th>inmsupr</th>\n",
       "      <th>hypertension</th>\n",
       "      <th>other_disease</th>\n",
       "      <th>cardiovascular</th>\n",
       "      <th>obesity</th>\n",
       "      <th>renal_chronic</th>\n",
       "      <th>tobacco</th>\n",
       "      <th>contact_other_covid</th>\n",
       "      <th>covid_res</th>\n",
       "      <th>icu</th>\n",
       "    </tr>\n",
       "  </thead>\n",
       "  <tbody>\n",
       "    <tr>\n",
       "      <th>count</th>\n",
       "      <td>566602.000000</td>\n",
       "      <td>566602.000000</td>\n",
       "      <td>566602.000000</td>\n",
       "      <td>566602.000000</td>\n",
       "      <td>566602.000000</td>\n",
       "      <td>566602.000000</td>\n",
       "      <td>566602.000000</td>\n",
       "      <td>566602.000000</td>\n",
       "      <td>566602.000000</td>\n",
       "      <td>566602.000000</td>\n",
       "      <td>566602.000000</td>\n",
       "      <td>566602.000000</td>\n",
       "      <td>566602.000000</td>\n",
       "      <td>566602.000000</td>\n",
       "      <td>566602.000000</td>\n",
       "      <td>566602.000000</td>\n",
       "      <td>566602.000000</td>\n",
       "      <td>566602.000000</td>\n",
       "      <td>566602.000000</td>\n",
       "    </tr>\n",
       "    <tr>\n",
       "      <th>mean</th>\n",
       "      <td>1.506726</td>\n",
       "      <td>1.215165</td>\n",
       "      <td>76.562952</td>\n",
       "      <td>1.846262</td>\n",
       "      <td>42.622483</td>\n",
       "      <td>50.400692</td>\n",
       "      <td>2.210633</td>\n",
       "      <td>2.280221</td>\n",
       "      <td>2.265029</td>\n",
       "      <td>2.319628</td>\n",
       "      <td>2.145774</td>\n",
       "      <td>2.410030</td>\n",
       "      <td>2.286157</td>\n",
       "      <td>2.138905</td>\n",
       "      <td>2.283765</td>\n",
       "      <td>2.238360</td>\n",
       "      <td>31.573034</td>\n",
       "      <td>1.728651</td>\n",
       "      <td>76.562864</td>\n",
       "    </tr>\n",
       "    <tr>\n",
       "      <th>std</th>\n",
       "      <td>0.499955</td>\n",
       "      <td>0.410937</td>\n",
       "      <td>39.058676</td>\n",
       "      <td>0.560939</td>\n",
       "      <td>16.659973</td>\n",
       "      <td>47.501579</td>\n",
       "      <td>5.683523</td>\n",
       "      <td>5.327832</td>\n",
       "      <td>5.334658</td>\n",
       "      <td>5.667381</td>\n",
       "      <td>5.459866</td>\n",
       "      <td>6.489959</td>\n",
       "      <td>5.438405</td>\n",
       "      <td>5.395578</td>\n",
       "      <td>5.393232</td>\n",
       "      <td>5.571901</td>\n",
       "      <td>45.082123</td>\n",
       "      <td>0.658710</td>\n",
       "      <td>39.059060</td>\n",
       "    </tr>\n",
       "    <tr>\n",
       "      <th>min</th>\n",
       "      <td>1.000000</td>\n",
       "      <td>1.000000</td>\n",
       "      <td>1.000000</td>\n",
       "      <td>1.000000</td>\n",
       "      <td>0.000000</td>\n",
       "      <td>1.000000</td>\n",
       "      <td>1.000000</td>\n",
       "      <td>1.000000</td>\n",
       "      <td>1.000000</td>\n",
       "      <td>1.000000</td>\n",
       "      <td>1.000000</td>\n",
       "      <td>1.000000</td>\n",
       "      <td>1.000000</td>\n",
       "      <td>1.000000</td>\n",
       "      <td>1.000000</td>\n",
       "      <td>1.000000</td>\n",
       "      <td>1.000000</td>\n",
       "      <td>1.000000</td>\n",
       "      <td>1.000000</td>\n",
       "    </tr>\n",
       "    <tr>\n",
       "      <th>25%</th>\n",
       "      <td>1.000000</td>\n",
       "      <td>1.000000</td>\n",
       "      <td>97.000000</td>\n",
       "      <td>2.000000</td>\n",
       "      <td>31.000000</td>\n",
       "      <td>2.000000</td>\n",
       "      <td>2.000000</td>\n",
       "      <td>2.000000</td>\n",
       "      <td>2.000000</td>\n",
       "      <td>2.000000</td>\n",
       "      <td>2.000000</td>\n",
       "      <td>2.000000</td>\n",
       "      <td>2.000000</td>\n",
       "      <td>2.000000</td>\n",
       "      <td>2.000000</td>\n",
       "      <td>2.000000</td>\n",
       "      <td>1.000000</td>\n",
       "      <td>1.000000</td>\n",
       "      <td>97.000000</td>\n",
       "    </tr>\n",
       "    <tr>\n",
       "      <th>50%</th>\n",
       "      <td>2.000000</td>\n",
       "      <td>1.000000</td>\n",
       "      <td>97.000000</td>\n",
       "      <td>2.000000</td>\n",
       "      <td>41.000000</td>\n",
       "      <td>97.000000</td>\n",
       "      <td>2.000000</td>\n",
       "      <td>2.000000</td>\n",
       "      <td>2.000000</td>\n",
       "      <td>2.000000</td>\n",
       "      <td>2.000000</td>\n",
       "      <td>2.000000</td>\n",
       "      <td>2.000000</td>\n",
       "      <td>2.000000</td>\n",
       "      <td>2.000000</td>\n",
       "      <td>2.000000</td>\n",
       "      <td>2.000000</td>\n",
       "      <td>2.000000</td>\n",
       "      <td>97.000000</td>\n",
       "    </tr>\n",
       "    <tr>\n",
       "      <th>75%</th>\n",
       "      <td>2.000000</td>\n",
       "      <td>1.000000</td>\n",
       "      <td>97.000000</td>\n",
       "      <td>2.000000</td>\n",
       "      <td>53.000000</td>\n",
       "      <td>97.000000</td>\n",
       "      <td>2.000000</td>\n",
       "      <td>2.000000</td>\n",
       "      <td>2.000000</td>\n",
       "      <td>2.000000</td>\n",
       "      <td>2.000000</td>\n",
       "      <td>2.000000</td>\n",
       "      <td>2.000000</td>\n",
       "      <td>2.000000</td>\n",
       "      <td>2.000000</td>\n",
       "      <td>2.000000</td>\n",
       "      <td>99.000000</td>\n",
       "      <td>2.000000</td>\n",
       "      <td>97.000000</td>\n",
       "    </tr>\n",
       "    <tr>\n",
       "      <th>max</th>\n",
       "      <td>2.000000</td>\n",
       "      <td>2.000000</td>\n",
       "      <td>99.000000</td>\n",
       "      <td>99.000000</td>\n",
       "      <td>120.000000</td>\n",
       "      <td>98.000000</td>\n",
       "      <td>98.000000</td>\n",
       "      <td>98.000000</td>\n",
       "      <td>98.000000</td>\n",
       "      <td>98.000000</td>\n",
       "      <td>98.000000</td>\n",
       "      <td>98.000000</td>\n",
       "      <td>98.000000</td>\n",
       "      <td>98.000000</td>\n",
       "      <td>98.000000</td>\n",
       "      <td>98.000000</td>\n",
       "      <td>99.000000</td>\n",
       "      <td>3.000000</td>\n",
       "      <td>99.000000</td>\n",
       "    </tr>\n",
       "  </tbody>\n",
       "</table>\n",
       "</div>"
      ],
      "text/plain": [
       "                 sex   patient_type        intubed      pneumonia  \\\n",
       "count  566602.000000  566602.000000  566602.000000  566602.000000   \n",
       "mean        1.506726       1.215165      76.562952       1.846262   \n",
       "std         0.499955       0.410937      39.058676       0.560939   \n",
       "min         1.000000       1.000000       1.000000       1.000000   \n",
       "25%         1.000000       1.000000      97.000000       2.000000   \n",
       "50%         2.000000       1.000000      97.000000       2.000000   \n",
       "75%         2.000000       1.000000      97.000000       2.000000   \n",
       "max         2.000000       2.000000      99.000000      99.000000   \n",
       "\n",
       "                 age      pregnancy       diabetes           copd  \\\n",
       "count  566602.000000  566602.000000  566602.000000  566602.000000   \n",
       "mean       42.622483      50.400692       2.210633       2.280221   \n",
       "std        16.659973      47.501579       5.683523       5.327832   \n",
       "min         0.000000       1.000000       1.000000       1.000000   \n",
       "25%        31.000000       2.000000       2.000000       2.000000   \n",
       "50%        41.000000      97.000000       2.000000       2.000000   \n",
       "75%        53.000000      97.000000       2.000000       2.000000   \n",
       "max       120.000000      98.000000      98.000000      98.000000   \n",
       "\n",
       "              asthma        inmsupr   hypertension  other_disease  \\\n",
       "count  566602.000000  566602.000000  566602.000000  566602.000000   \n",
       "mean        2.265029       2.319628       2.145774       2.410030   \n",
       "std         5.334658       5.667381       5.459866       6.489959   \n",
       "min         1.000000       1.000000       1.000000       1.000000   \n",
       "25%         2.000000       2.000000       2.000000       2.000000   \n",
       "50%         2.000000       2.000000       2.000000       2.000000   \n",
       "75%         2.000000       2.000000       2.000000       2.000000   \n",
       "max        98.000000      98.000000      98.000000      98.000000   \n",
       "\n",
       "       cardiovascular        obesity  renal_chronic        tobacco  \\\n",
       "count   566602.000000  566602.000000  566602.000000  566602.000000   \n",
       "mean         2.286157       2.138905       2.283765       2.238360   \n",
       "std          5.438405       5.395578       5.393232       5.571901   \n",
       "min          1.000000       1.000000       1.000000       1.000000   \n",
       "25%          2.000000       2.000000       2.000000       2.000000   \n",
       "50%          2.000000       2.000000       2.000000       2.000000   \n",
       "75%          2.000000       2.000000       2.000000       2.000000   \n",
       "max         98.000000      98.000000      98.000000      98.000000   \n",
       "\n",
       "       contact_other_covid      covid_res            icu  \n",
       "count        566602.000000  566602.000000  566602.000000  \n",
       "mean             31.573034       1.728651      76.562864  \n",
       "std              45.082123       0.658710      39.059060  \n",
       "min               1.000000       1.000000       1.000000  \n",
       "25%               1.000000       1.000000      97.000000  \n",
       "50%               2.000000       2.000000      97.000000  \n",
       "75%              99.000000       2.000000      97.000000  \n",
       "max              99.000000       3.000000      99.000000  "
      ]
     },
     "execution_count": 6,
     "metadata": {},
     "output_type": "execute_result"
    }
   ],
   "source": [
    "df.describe()"
   ]
  },
  {
   "cell_type": "code",
   "execution_count": 7,
   "metadata": {},
   "outputs": [
    {
     "data": {
      "text/html": [
       "<div>\n",
       "<style scoped>\n",
       "    .dataframe tbody tr th:only-of-type {\n",
       "        vertical-align: middle;\n",
       "    }\n",
       "\n",
       "    .dataframe tbody tr th {\n",
       "        vertical-align: top;\n",
       "    }\n",
       "\n",
       "    .dataframe thead th {\n",
       "        text-align: right;\n",
       "    }\n",
       "</style>\n",
       "<table border=\"1\" class=\"dataframe\">\n",
       "  <thead>\n",
       "    <tr style=\"text-align: right;\">\n",
       "      <th></th>\n",
       "      <th>sex</th>\n",
       "      <th>patient_type</th>\n",
       "      <th>intubed</th>\n",
       "      <th>pneumonia</th>\n",
       "      <th>age</th>\n",
       "      <th>pregnancy</th>\n",
       "      <th>diabetes</th>\n",
       "      <th>copd</th>\n",
       "      <th>asthma</th>\n",
       "      <th>inmsupr</th>\n",
       "      <th>hypertension</th>\n",
       "      <th>other_disease</th>\n",
       "      <th>cardiovascular</th>\n",
       "      <th>obesity</th>\n",
       "      <th>renal_chronic</th>\n",
       "      <th>tobacco</th>\n",
       "      <th>contact_other_covid</th>\n",
       "      <th>covid_res</th>\n",
       "      <th>icu</th>\n",
       "    </tr>\n",
       "  </thead>\n",
       "  <tbody>\n",
       "    <tr>\n",
       "      <th>sex</th>\n",
       "      <td>1.000000</td>\n",
       "      <td>0.097025</td>\n",
       "      <td>-0.097029</td>\n",
       "      <td>-0.054758</td>\n",
       "      <td>0.036709</td>\n",
       "      <td>0.994293</td>\n",
       "      <td>0.008153</td>\n",
       "      <td>0.009339</td>\n",
       "      <td>0.010119</td>\n",
       "      <td>0.008096</td>\n",
       "      <td>0.009019</td>\n",
       "      <td>0.010155</td>\n",
       "      <td>0.008344</td>\n",
       "      <td>0.010199</td>\n",
       "      <td>0.008577</td>\n",
       "      <td>0.004980</td>\n",
       "      <td>-0.001791</td>\n",
       "      <td>-0.047575</td>\n",
       "      <td>-0.097024</td>\n",
       "    </tr>\n",
       "    <tr>\n",
       "      <th>patient_type</th>\n",
       "      <td>0.097025</td>\n",
       "      <td>1.000000</td>\n",
       "      <td>-0.999319</td>\n",
       "      <td>-0.420400</td>\n",
       "      <td>0.325059</td>\n",
       "      <td>0.095472</td>\n",
       "      <td>0.002315</td>\n",
       "      <td>0.013227</td>\n",
       "      <td>0.016670</td>\n",
       "      <td>0.016359</td>\n",
       "      <td>0.000274</td>\n",
       "      <td>0.028232</td>\n",
       "      <td>0.016446</td>\n",
       "      <td>0.014967</td>\n",
       "      <td>0.013240</td>\n",
       "      <td>0.016603</td>\n",
       "      <td>0.228929</td>\n",
       "      <td>-0.135931</td>\n",
       "      <td>-0.999314</td>\n",
       "    </tr>\n",
       "    <tr>\n",
       "      <th>intubed</th>\n",
       "      <td>-0.097029</td>\n",
       "      <td>-0.999319</td>\n",
       "      <td>1.000000</td>\n",
       "      <td>0.421256</td>\n",
       "      <td>-0.324869</td>\n",
       "      <td>-0.095481</td>\n",
       "      <td>-0.002456</td>\n",
       "      <td>-0.013363</td>\n",
       "      <td>-0.016807</td>\n",
       "      <td>-0.016424</td>\n",
       "      <td>-0.000419</td>\n",
       "      <td>-0.028389</td>\n",
       "      <td>-0.016587</td>\n",
       "      <td>-0.015101</td>\n",
       "      <td>-0.013384</td>\n",
       "      <td>-0.016738</td>\n",
       "      <td>-0.228811</td>\n",
       "      <td>0.135738</td>\n",
       "      <td>0.999989</td>\n",
       "    </tr>\n",
       "    <tr>\n",
       "      <th>pneumonia</th>\n",
       "      <td>-0.054758</td>\n",
       "      <td>-0.420400</td>\n",
       "      <td>0.421256</td>\n",
       "      <td>1.000000</td>\n",
       "      <td>-0.183492</td>\n",
       "      <td>-0.054031</td>\n",
       "      <td>-0.002875</td>\n",
       "      <td>-0.008592</td>\n",
       "      <td>-0.010370</td>\n",
       "      <td>-0.010979</td>\n",
       "      <td>-0.001568</td>\n",
       "      <td>-0.019541</td>\n",
       "      <td>-0.010392</td>\n",
       "      <td>-0.010070</td>\n",
       "      <td>-0.008296</td>\n",
       "      <td>-0.009996</td>\n",
       "      <td>-0.074756</td>\n",
       "      <td>0.093832</td>\n",
       "      <td>0.421182</td>\n",
       "    </tr>\n",
       "    <tr>\n",
       "      <th>age</th>\n",
       "      <td>0.036709</td>\n",
       "      <td>0.325059</td>\n",
       "      <td>-0.324869</td>\n",
       "      <td>-0.183492</td>\n",
       "      <td>1.000000</td>\n",
       "      <td>0.036239</td>\n",
       "      <td>0.000556</td>\n",
       "      <td>0.014440</td>\n",
       "      <td>0.018668</td>\n",
       "      <td>0.018625</td>\n",
       "      <td>-0.008617</td>\n",
       "      <td>0.018627</td>\n",
       "      <td>0.015049</td>\n",
       "      <td>0.012068</td>\n",
       "      <td>0.016643</td>\n",
       "      <td>0.017531</td>\n",
       "      <td>0.099339</td>\n",
       "      <td>-0.102643</td>\n",
       "      <td>-0.324791</td>\n",
       "    </tr>\n",
       "    <tr>\n",
       "      <th>pregnancy</th>\n",
       "      <td>0.994293</td>\n",
       "      <td>0.095472</td>\n",
       "      <td>-0.095481</td>\n",
       "      <td>-0.054031</td>\n",
       "      <td>0.036239</td>\n",
       "      <td>1.000000</td>\n",
       "      <td>0.016239</td>\n",
       "      <td>0.018035</td>\n",
       "      <td>0.018931</td>\n",
       "      <td>0.016412</td>\n",
       "      <td>0.017474</td>\n",
       "      <td>0.017392</td>\n",
       "      <td>0.016854</td>\n",
       "      <td>0.018692</td>\n",
       "      <td>0.016970</td>\n",
       "      <td>0.013060</td>\n",
       "      <td>-0.003185</td>\n",
       "      <td>-0.047589</td>\n",
       "      <td>-0.095474</td>\n",
       "    </tr>\n",
       "    <tr>\n",
       "      <th>diabetes</th>\n",
       "      <td>0.008153</td>\n",
       "      <td>0.002315</td>\n",
       "      <td>-0.002456</td>\n",
       "      <td>-0.002875</td>\n",
       "      <td>0.000556</td>\n",
       "      <td>0.016239</td>\n",
       "      <td>1.000000</td>\n",
       "      <td>0.838368</td>\n",
       "      <td>0.843817</td>\n",
       "      <td>0.794140</td>\n",
       "      <td>0.845727</td>\n",
       "      <td>0.688245</td>\n",
       "      <td>0.821716</td>\n",
       "      <td>0.765574</td>\n",
       "      <td>0.817052</td>\n",
       "      <td>0.777978</td>\n",
       "      <td>0.002895</td>\n",
       "      <td>0.005156</td>\n",
       "      <td>-0.002429</td>\n",
       "    </tr>\n",
       "    <tr>\n",
       "      <th>copd</th>\n",
       "      <td>0.009339</td>\n",
       "      <td>0.013227</td>\n",
       "      <td>-0.013363</td>\n",
       "      <td>-0.008592</td>\n",
       "      <td>0.014440</td>\n",
       "      <td>0.018035</td>\n",
       "      <td>0.838368</td>\n",
       "      <td>1.000000</td>\n",
       "      <td>0.922057</td>\n",
       "      <td>0.866870</td>\n",
       "      <td>0.872321</td>\n",
       "      <td>0.748066</td>\n",
       "      <td>0.893562</td>\n",
       "      <td>0.827598</td>\n",
       "      <td>0.889774</td>\n",
       "      <td>0.844021</td>\n",
       "      <td>0.010322</td>\n",
       "      <td>0.000882</td>\n",
       "      <td>-0.013308</td>\n",
       "    </tr>\n",
       "    <tr>\n",
       "      <th>asthma</th>\n",
       "      <td>0.010119</td>\n",
       "      <td>0.016670</td>\n",
       "      <td>-0.016807</td>\n",
       "      <td>-0.010370</td>\n",
       "      <td>0.018668</td>\n",
       "      <td>0.018931</td>\n",
       "      <td>0.843817</td>\n",
       "      <td>0.922057</td>\n",
       "      <td>1.000000</td>\n",
       "      <td>0.886307</td>\n",
       "      <td>0.883549</td>\n",
       "      <td>0.756712</td>\n",
       "      <td>0.906039</td>\n",
       "      <td>0.839128</td>\n",
       "      <td>0.901793</td>\n",
       "      <td>0.855136</td>\n",
       "      <td>0.010714</td>\n",
       "      <td>0.000276</td>\n",
       "      <td>-0.016759</td>\n",
       "    </tr>\n",
       "    <tr>\n",
       "      <th>inmsupr</th>\n",
       "      <td>0.008096</td>\n",
       "      <td>0.016359</td>\n",
       "      <td>-0.016424</td>\n",
       "      <td>-0.010979</td>\n",
       "      <td>0.018625</td>\n",
       "      <td>0.016412</td>\n",
       "      <td>0.794140</td>\n",
       "      <td>0.866870</td>\n",
       "      <td>0.886307</td>\n",
       "      <td>1.000000</td>\n",
       "      <td>0.844534</td>\n",
       "      <td>0.800965</td>\n",
       "      <td>0.872862</td>\n",
       "      <td>0.804051</td>\n",
       "      <td>0.866491</td>\n",
       "      <td>0.821285</td>\n",
       "      <td>0.010554</td>\n",
       "      <td>-0.000914</td>\n",
       "      <td>-0.016299</td>\n",
       "    </tr>\n",
       "    <tr>\n",
       "      <th>hypertension</th>\n",
       "      <td>0.009019</td>\n",
       "      <td>0.000274</td>\n",
       "      <td>-0.000419</td>\n",
       "      <td>-0.001568</td>\n",
       "      <td>-0.008617</td>\n",
       "      <td>0.017474</td>\n",
       "      <td>0.845727</td>\n",
       "      <td>0.872321</td>\n",
       "      <td>0.883549</td>\n",
       "      <td>0.844534</td>\n",
       "      <td>1.000000</td>\n",
       "      <td>0.733541</td>\n",
       "      <td>0.878630</td>\n",
       "      <td>0.821326</td>\n",
       "      <td>0.871760</td>\n",
       "      <td>0.826144</td>\n",
       "      <td>0.002588</td>\n",
       "      <td>0.005350</td>\n",
       "      <td>-0.000369</td>\n",
       "    </tr>\n",
       "    <tr>\n",
       "      <th>other_disease</th>\n",
       "      <td>0.010155</td>\n",
       "      <td>0.028232</td>\n",
       "      <td>-0.028389</td>\n",
       "      <td>-0.019541</td>\n",
       "      <td>0.018627</td>\n",
       "      <td>0.017392</td>\n",
       "      <td>0.688245</td>\n",
       "      <td>0.748066</td>\n",
       "      <td>0.756712</td>\n",
       "      <td>0.800965</td>\n",
       "      <td>0.733541</td>\n",
       "      <td>1.000000</td>\n",
       "      <td>0.777377</td>\n",
       "      <td>0.707074</td>\n",
       "      <td>0.760760</td>\n",
       "      <td>0.723424</td>\n",
       "      <td>0.002503</td>\n",
       "      <td>-0.001526</td>\n",
       "      <td>-0.028260</td>\n",
       "    </tr>\n",
       "    <tr>\n",
       "      <th>cardiovascular</th>\n",
       "      <td>0.008344</td>\n",
       "      <td>0.016446</td>\n",
       "      <td>-0.016587</td>\n",
       "      <td>-0.010392</td>\n",
       "      <td>0.015049</td>\n",
       "      <td>0.016854</td>\n",
       "      <td>0.821716</td>\n",
       "      <td>0.893562</td>\n",
       "      <td>0.906039</td>\n",
       "      <td>0.872862</td>\n",
       "      <td>0.878630</td>\n",
       "      <td>0.777377</td>\n",
       "      <td>1.000000</td>\n",
       "      <td>0.844964</td>\n",
       "      <td>0.916545</td>\n",
       "      <td>0.863272</td>\n",
       "      <td>0.011388</td>\n",
       "      <td>-0.000618</td>\n",
       "      <td>-0.016527</td>\n",
       "    </tr>\n",
       "    <tr>\n",
       "      <th>obesity</th>\n",
       "      <td>0.010199</td>\n",
       "      <td>0.014967</td>\n",
       "      <td>-0.015101</td>\n",
       "      <td>-0.010070</td>\n",
       "      <td>0.012068</td>\n",
       "      <td>0.018692</td>\n",
       "      <td>0.765574</td>\n",
       "      <td>0.827598</td>\n",
       "      <td>0.839128</td>\n",
       "      <td>0.804051</td>\n",
       "      <td>0.821326</td>\n",
       "      <td>0.707074</td>\n",
       "      <td>0.844964</td>\n",
       "      <td>1.000000</td>\n",
       "      <td>0.850989</td>\n",
       "      <td>0.813580</td>\n",
       "      <td>0.011813</td>\n",
       "      <td>0.002820</td>\n",
       "      <td>-0.015058</td>\n",
       "    </tr>\n",
       "    <tr>\n",
       "      <th>renal_chronic</th>\n",
       "      <td>0.008577</td>\n",
       "      <td>0.013240</td>\n",
       "      <td>-0.013384</td>\n",
       "      <td>-0.008296</td>\n",
       "      <td>0.016643</td>\n",
       "      <td>0.016970</td>\n",
       "      <td>0.817052</td>\n",
       "      <td>0.889774</td>\n",
       "      <td>0.901793</td>\n",
       "      <td>0.866491</td>\n",
       "      <td>0.871760</td>\n",
       "      <td>0.760760</td>\n",
       "      <td>0.916545</td>\n",
       "      <td>0.850989</td>\n",
       "      <td>1.000000</td>\n",
       "      <td>0.868382</td>\n",
       "      <td>0.010239</td>\n",
       "      <td>0.000549</td>\n",
       "      <td>-0.013332</td>\n",
       "    </tr>\n",
       "    <tr>\n",
       "      <th>tobacco</th>\n",
       "      <td>0.004980</td>\n",
       "      <td>0.016603</td>\n",
       "      <td>-0.016738</td>\n",
       "      <td>-0.009996</td>\n",
       "      <td>0.017531</td>\n",
       "      <td>0.013060</td>\n",
       "      <td>0.777978</td>\n",
       "      <td>0.844021</td>\n",
       "      <td>0.855136</td>\n",
       "      <td>0.821285</td>\n",
       "      <td>0.826144</td>\n",
       "      <td>0.723424</td>\n",
       "      <td>0.863272</td>\n",
       "      <td>0.813580</td>\n",
       "      <td>0.868382</td>\n",
       "      <td>1.000000</td>\n",
       "      <td>0.011117</td>\n",
       "      <td>-0.001005</td>\n",
       "      <td>-0.016686</td>\n",
       "    </tr>\n",
       "    <tr>\n",
       "      <th>contact_other_covid</th>\n",
       "      <td>-0.001791</td>\n",
       "      <td>0.228929</td>\n",
       "      <td>-0.228811</td>\n",
       "      <td>-0.074756</td>\n",
       "      <td>0.099339</td>\n",
       "      <td>-0.003185</td>\n",
       "      <td>0.002895</td>\n",
       "      <td>0.010322</td>\n",
       "      <td>0.010714</td>\n",
       "      <td>0.010554</td>\n",
       "      <td>0.002588</td>\n",
       "      <td>0.002503</td>\n",
       "      <td>0.011388</td>\n",
       "      <td>0.011813</td>\n",
       "      <td>0.010239</td>\n",
       "      <td>0.011117</td>\n",
       "      <td>1.000000</td>\n",
       "      <td>-0.070829</td>\n",
       "      <td>-0.228823</td>\n",
       "    </tr>\n",
       "    <tr>\n",
       "      <th>covid_res</th>\n",
       "      <td>-0.047575</td>\n",
       "      <td>-0.135931</td>\n",
       "      <td>0.135738</td>\n",
       "      <td>0.093832</td>\n",
       "      <td>-0.102643</td>\n",
       "      <td>-0.047589</td>\n",
       "      <td>0.005156</td>\n",
       "      <td>0.000882</td>\n",
       "      <td>0.000276</td>\n",
       "      <td>-0.000914</td>\n",
       "      <td>0.005350</td>\n",
       "      <td>-0.001526</td>\n",
       "      <td>-0.000618</td>\n",
       "      <td>0.002820</td>\n",
       "      <td>0.000549</td>\n",
       "      <td>-0.001005</td>\n",
       "      <td>-0.070829</td>\n",
       "      <td>1.000000</td>\n",
       "      <td>0.135663</td>\n",
       "    </tr>\n",
       "    <tr>\n",
       "      <th>icu</th>\n",
       "      <td>-0.097024</td>\n",
       "      <td>-0.999314</td>\n",
       "      <td>0.999989</td>\n",
       "      <td>0.421182</td>\n",
       "      <td>-0.324791</td>\n",
       "      <td>-0.095474</td>\n",
       "      <td>-0.002429</td>\n",
       "      <td>-0.013308</td>\n",
       "      <td>-0.016759</td>\n",
       "      <td>-0.016299</td>\n",
       "      <td>-0.000369</td>\n",
       "      <td>-0.028260</td>\n",
       "      <td>-0.016527</td>\n",
       "      <td>-0.015058</td>\n",
       "      <td>-0.013332</td>\n",
       "      <td>-0.016686</td>\n",
       "      <td>-0.228823</td>\n",
       "      <td>0.135663</td>\n",
       "      <td>1.000000</td>\n",
       "    </tr>\n",
       "  </tbody>\n",
       "</table>\n",
       "</div>"
      ],
      "text/plain": [
       "                          sex  patient_type   intubed  pneumonia       age  \\\n",
       "sex                  1.000000      0.097025 -0.097029  -0.054758  0.036709   \n",
       "patient_type         0.097025      1.000000 -0.999319  -0.420400  0.325059   \n",
       "intubed             -0.097029     -0.999319  1.000000   0.421256 -0.324869   \n",
       "pneumonia           -0.054758     -0.420400  0.421256   1.000000 -0.183492   \n",
       "age                  0.036709      0.325059 -0.324869  -0.183492  1.000000   \n",
       "pregnancy            0.994293      0.095472 -0.095481  -0.054031  0.036239   \n",
       "diabetes             0.008153      0.002315 -0.002456  -0.002875  0.000556   \n",
       "copd                 0.009339      0.013227 -0.013363  -0.008592  0.014440   \n",
       "asthma               0.010119      0.016670 -0.016807  -0.010370  0.018668   \n",
       "inmsupr              0.008096      0.016359 -0.016424  -0.010979  0.018625   \n",
       "hypertension         0.009019      0.000274 -0.000419  -0.001568 -0.008617   \n",
       "other_disease        0.010155      0.028232 -0.028389  -0.019541  0.018627   \n",
       "cardiovascular       0.008344      0.016446 -0.016587  -0.010392  0.015049   \n",
       "obesity              0.010199      0.014967 -0.015101  -0.010070  0.012068   \n",
       "renal_chronic        0.008577      0.013240 -0.013384  -0.008296  0.016643   \n",
       "tobacco              0.004980      0.016603 -0.016738  -0.009996  0.017531   \n",
       "contact_other_covid -0.001791      0.228929 -0.228811  -0.074756  0.099339   \n",
       "covid_res           -0.047575     -0.135931  0.135738   0.093832 -0.102643   \n",
       "icu                 -0.097024     -0.999314  0.999989   0.421182 -0.324791   \n",
       "\n",
       "                     pregnancy  diabetes      copd    asthma   inmsupr  \\\n",
       "sex                   0.994293  0.008153  0.009339  0.010119  0.008096   \n",
       "patient_type          0.095472  0.002315  0.013227  0.016670  0.016359   \n",
       "intubed              -0.095481 -0.002456 -0.013363 -0.016807 -0.016424   \n",
       "pneumonia            -0.054031 -0.002875 -0.008592 -0.010370 -0.010979   \n",
       "age                   0.036239  0.000556  0.014440  0.018668  0.018625   \n",
       "pregnancy             1.000000  0.016239  0.018035  0.018931  0.016412   \n",
       "diabetes              0.016239  1.000000  0.838368  0.843817  0.794140   \n",
       "copd                  0.018035  0.838368  1.000000  0.922057  0.866870   \n",
       "asthma                0.018931  0.843817  0.922057  1.000000  0.886307   \n",
       "inmsupr               0.016412  0.794140  0.866870  0.886307  1.000000   \n",
       "hypertension          0.017474  0.845727  0.872321  0.883549  0.844534   \n",
       "other_disease         0.017392  0.688245  0.748066  0.756712  0.800965   \n",
       "cardiovascular        0.016854  0.821716  0.893562  0.906039  0.872862   \n",
       "obesity               0.018692  0.765574  0.827598  0.839128  0.804051   \n",
       "renal_chronic         0.016970  0.817052  0.889774  0.901793  0.866491   \n",
       "tobacco               0.013060  0.777978  0.844021  0.855136  0.821285   \n",
       "contact_other_covid  -0.003185  0.002895  0.010322  0.010714  0.010554   \n",
       "covid_res            -0.047589  0.005156  0.000882  0.000276 -0.000914   \n",
       "icu                  -0.095474 -0.002429 -0.013308 -0.016759 -0.016299   \n",
       "\n",
       "                     hypertension  other_disease  cardiovascular   obesity  \\\n",
       "sex                      0.009019       0.010155        0.008344  0.010199   \n",
       "patient_type             0.000274       0.028232        0.016446  0.014967   \n",
       "intubed                 -0.000419      -0.028389       -0.016587 -0.015101   \n",
       "pneumonia               -0.001568      -0.019541       -0.010392 -0.010070   \n",
       "age                     -0.008617       0.018627        0.015049  0.012068   \n",
       "pregnancy                0.017474       0.017392        0.016854  0.018692   \n",
       "diabetes                 0.845727       0.688245        0.821716  0.765574   \n",
       "copd                     0.872321       0.748066        0.893562  0.827598   \n",
       "asthma                   0.883549       0.756712        0.906039  0.839128   \n",
       "inmsupr                  0.844534       0.800965        0.872862  0.804051   \n",
       "hypertension             1.000000       0.733541        0.878630  0.821326   \n",
       "other_disease            0.733541       1.000000        0.777377  0.707074   \n",
       "cardiovascular           0.878630       0.777377        1.000000  0.844964   \n",
       "obesity                  0.821326       0.707074        0.844964  1.000000   \n",
       "renal_chronic            0.871760       0.760760        0.916545  0.850989   \n",
       "tobacco                  0.826144       0.723424        0.863272  0.813580   \n",
       "contact_other_covid      0.002588       0.002503        0.011388  0.011813   \n",
       "covid_res                0.005350      -0.001526       -0.000618  0.002820   \n",
       "icu                     -0.000369      -0.028260       -0.016527 -0.015058   \n",
       "\n",
       "                     renal_chronic   tobacco  contact_other_covid  covid_res  \\\n",
       "sex                       0.008577  0.004980            -0.001791  -0.047575   \n",
       "patient_type              0.013240  0.016603             0.228929  -0.135931   \n",
       "intubed                  -0.013384 -0.016738            -0.228811   0.135738   \n",
       "pneumonia                -0.008296 -0.009996            -0.074756   0.093832   \n",
       "age                       0.016643  0.017531             0.099339  -0.102643   \n",
       "pregnancy                 0.016970  0.013060            -0.003185  -0.047589   \n",
       "diabetes                  0.817052  0.777978             0.002895   0.005156   \n",
       "copd                      0.889774  0.844021             0.010322   0.000882   \n",
       "asthma                    0.901793  0.855136             0.010714   0.000276   \n",
       "inmsupr                   0.866491  0.821285             0.010554  -0.000914   \n",
       "hypertension              0.871760  0.826144             0.002588   0.005350   \n",
       "other_disease             0.760760  0.723424             0.002503  -0.001526   \n",
       "cardiovascular            0.916545  0.863272             0.011388  -0.000618   \n",
       "obesity                   0.850989  0.813580             0.011813   0.002820   \n",
       "renal_chronic             1.000000  0.868382             0.010239   0.000549   \n",
       "tobacco                   0.868382  1.000000             0.011117  -0.001005   \n",
       "contact_other_covid       0.010239  0.011117             1.000000  -0.070829   \n",
       "covid_res                 0.000549 -0.001005            -0.070829   1.000000   \n",
       "icu                      -0.013332 -0.016686            -0.228823   0.135663   \n",
       "\n",
       "                          icu  \n",
       "sex                 -0.097024  \n",
       "patient_type        -0.999314  \n",
       "intubed              0.999989  \n",
       "pneumonia            0.421182  \n",
       "age                 -0.324791  \n",
       "pregnancy           -0.095474  \n",
       "diabetes            -0.002429  \n",
       "copd                -0.013308  \n",
       "asthma              -0.016759  \n",
       "inmsupr             -0.016299  \n",
       "hypertension        -0.000369  \n",
       "other_disease       -0.028260  \n",
       "cardiovascular      -0.016527  \n",
       "obesity             -0.015058  \n",
       "renal_chronic       -0.013332  \n",
       "tobacco             -0.016686  \n",
       "contact_other_covid -0.228823  \n",
       "covid_res            0.135663  \n",
       "icu                  1.000000  "
      ]
     },
     "execution_count": 7,
     "metadata": {},
     "output_type": "execute_result"
    }
   ],
   "source": [
    "df.corr()"
   ]
  },
  {
   "cell_type": "code",
   "execution_count": 8,
   "metadata": {},
   "outputs": [
    {
     "data": {
      "text/plain": [
       "0           4/5/2020\n",
       "1         19-03-2020\n",
       "2           6/4/2020\n",
       "3         17-04-2020\n",
       "4         13-04-2020\n",
       "             ...    \n",
       "566597    13-05-2020\n",
       "566598      7/4/2020\n",
       "566599    14-05-2020\n",
       "566600    31-05-2020\n",
       "566601    16-05-2020\n",
       "Name: entry_date, Length: 566602, dtype: object"
      ]
     },
     "execution_count": 8,
     "metadata": {},
     "output_type": "execute_result"
    }
   ],
   "source": [
    "df['entry_date']"
   ]
  },
  {
   "cell_type": "markdown",
   "metadata": {},
   "source": [
    "##Converting date columns in proper manner"
   ]
  },
  {
   "cell_type": "code",
   "execution_count": 9,
   "metadata": {},
   "outputs": [],
   "source": [
    "def date_fn(x):\n",
    "    if \"-\" in x:\n",
    "        split_ = x.split(\"-\")\n",
    "    elif \"/\" in x:\n",
    "        split_ = x.split(\"/\")\n",
    "    dd,mm,yy = split_[0],split_[1],split_[-1]\n",
    "    return (\"{}-{}-{}\".format(dd,mm,yy))"
   ]
  },
  {
   "cell_type": "code",
   "execution_count": 10,
   "metadata": {},
   "outputs": [
    {
     "data": {
      "text/plain": [
       "0           4-5-2020\n",
       "1         19-03-2020\n",
       "2           6-4-2020\n",
       "3         17-04-2020\n",
       "4         13-04-2020\n",
       "             ...    \n",
       "566597    13-05-2020\n",
       "566598      7-4-2020\n",
       "566599    14-05-2020\n",
       "566600    31-05-2020\n",
       "566601    16-05-2020\n",
       "Name: entry_date, Length: 566602, dtype: object"
      ]
     },
     "execution_count": 10,
     "metadata": {},
     "output_type": "execute_result"
    }
   ],
   "source": [
    "df['entry_date'].apply(lambda x: date_fn(x))"
   ]
  },
  {
   "cell_type": "code",
   "execution_count": 11,
   "metadata": {},
   "outputs": [],
   "source": [
    "df[\"entry_date\"] = pd.to_datetime(df['entry_date'])"
   ]
  },
  {
   "cell_type": "code",
   "execution_count": 12,
   "metadata": {},
   "outputs": [],
   "source": [
    "df['date_symptoms']=pd.DataFrame(df['date_symptoms'].apply(lambda x: date_fn(x)))"
   ]
  },
  {
   "cell_type": "code",
   "execution_count": 13,
   "metadata": {},
   "outputs": [
    {
     "data": {
      "text/plain": [
       "0         2020\n",
       "1         2020\n",
       "2         2020\n",
       "3         2020\n",
       "4         2020\n",
       "          ... \n",
       "566597    2020\n",
       "566598    2020\n",
       "566599    2020\n",
       "566600    2020\n",
       "566601    2020\n",
       "Name: entry_date, Length: 566602, dtype: int64"
      ]
     },
     "execution_count": 13,
     "metadata": {},
     "output_type": "execute_result"
    }
   ],
   "source": [
    "df['entry_date'].dt.year"
   ]
  },
  {
   "cell_type": "code",
   "execution_count": 14,
   "metadata": {},
   "outputs": [
    {
     "data": {
      "text/plain": [
       "97    444689\n",
       "2     111676\n",
       "1      10112\n",
       "99       125\n",
       "Name: icu, dtype: int64"
      ]
     },
     "execution_count": 14,
     "metadata": {},
     "output_type": "execute_result"
    }
   ],
   "source": [
    "df['icu'].value_counts()"
   ]
  },
  {
   "cell_type": "code",
   "execution_count": 15,
   "metadata": {},
   "outputs": [
    {
     "data": {
      "text/plain": [
       "2    287112\n",
       "1    279490\n",
       "Name: sex, dtype: int64"
      ]
     },
     "execution_count": 15,
     "metadata": {},
     "output_type": "execute_result"
    }
   ],
   "source": [
    "df['sex'].value_counts()"
   ]
  },
  {
   "cell_type": "code",
   "execution_count": 16,
   "metadata": {},
   "outputs": [
    {
     "data": {
      "text/plain": [
       "97    287112\n",
       "2     273840\n",
       "1       4063\n",
       "98      1587\n",
       "Name: pregnancy, dtype: int64"
      ]
     },
     "execution_count": 16,
     "metadata": {},
     "output_type": "execute_result"
    }
   ],
   "source": [
    "df['pregnancy'].value_counts()"
   ]
  },
  {
   "cell_type": "markdown",
   "metadata": {},
   "source": [
    "#### Handling the missing values"
   ]
  },
  {
   "cell_type": "code",
   "execution_count": 17,
   "metadata": {},
   "outputs": [],
   "source": [
    "df['sex'].replace([1,2],[0,1],inplace=True)\n",
    "df['patient_type'].replace([1,2],[0,1],inplace=True)"
   ]
  },
  {
   "cell_type": "code",
   "execution_count": 18,
   "metadata": {},
   "outputs": [],
   "source": [
    "columns = ['intubed','pneumonia','pregnancy','diabetes','copd',\n",
    "    'asthma','inmsupr','hypertension','other_disease','cardiovascular',\n",
    "    'obesity','renal_chronic','tobacco','contact_other_covid','icu']"
   ]
  },
  {
   "cell_type": "code",
   "execution_count": 19,
   "metadata": {},
   "outputs": [
    {
     "data": {
      "text/html": [
       "<div>\n",
       "<style scoped>\n",
       "    .dataframe tbody tr th:only-of-type {\n",
       "        vertical-align: middle;\n",
       "    }\n",
       "\n",
       "    .dataframe tbody tr th {\n",
       "        vertical-align: top;\n",
       "    }\n",
       "\n",
       "    .dataframe thead th {\n",
       "        text-align: right;\n",
       "    }\n",
       "</style>\n",
       "<table border=\"1\" class=\"dataframe\">\n",
       "  <thead>\n",
       "    <tr style=\"text-align: right;\">\n",
       "      <th></th>\n",
       "      <th>id</th>\n",
       "      <th>sex</th>\n",
       "      <th>patient_type</th>\n",
       "      <th>entry_date</th>\n",
       "      <th>date_symptoms</th>\n",
       "      <th>date_died</th>\n",
       "      <th>intubed</th>\n",
       "      <th>pneumonia</th>\n",
       "      <th>age</th>\n",
       "      <th>pregnancy</th>\n",
       "      <th>...</th>\n",
       "      <th>inmsupr</th>\n",
       "      <th>hypertension</th>\n",
       "      <th>other_disease</th>\n",
       "      <th>cardiovascular</th>\n",
       "      <th>obesity</th>\n",
       "      <th>renal_chronic</th>\n",
       "      <th>tobacco</th>\n",
       "      <th>contact_other_covid</th>\n",
       "      <th>covid_res</th>\n",
       "      <th>icu</th>\n",
       "    </tr>\n",
       "  </thead>\n",
       "  <tbody>\n",
       "    <tr>\n",
       "      <th>0</th>\n",
       "      <td>16169f</td>\n",
       "      <td>1</td>\n",
       "      <td>0</td>\n",
       "      <td>2020-04-05</td>\n",
       "      <td>2-5-2020</td>\n",
       "      <td>9999-99-99</td>\n",
       "      <td>2</td>\n",
       "      <td>0</td>\n",
       "      <td>27</td>\n",
       "      <td>2</td>\n",
       "      <td>...</td>\n",
       "      <td>0</td>\n",
       "      <td>0</td>\n",
       "      <td>0</td>\n",
       "      <td>0</td>\n",
       "      <td>0</td>\n",
       "      <td>0</td>\n",
       "      <td>0</td>\n",
       "      <td>0</td>\n",
       "      <td>1</td>\n",
       "      <td>2</td>\n",
       "    </tr>\n",
       "    <tr>\n",
       "      <th>1</th>\n",
       "      <td>1009bf</td>\n",
       "      <td>1</td>\n",
       "      <td>0</td>\n",
       "      <td>2020-03-19</td>\n",
       "      <td>17-03-2020</td>\n",
       "      <td>9999-99-99</td>\n",
       "      <td>2</td>\n",
       "      <td>0</td>\n",
       "      <td>24</td>\n",
       "      <td>2</td>\n",
       "      <td>...</td>\n",
       "      <td>0</td>\n",
       "      <td>0</td>\n",
       "      <td>0</td>\n",
       "      <td>0</td>\n",
       "      <td>0</td>\n",
       "      <td>0</td>\n",
       "      <td>0</td>\n",
       "      <td>2</td>\n",
       "      <td>1</td>\n",
       "      <td>2</td>\n",
       "    </tr>\n",
       "    <tr>\n",
       "      <th>2</th>\n",
       "      <td>167386</td>\n",
       "      <td>0</td>\n",
       "      <td>1</td>\n",
       "      <td>2020-06-04</td>\n",
       "      <td>1-4-2020</td>\n",
       "      <td>9999-99-99</td>\n",
       "      <td>0</td>\n",
       "      <td>0</td>\n",
       "      <td>54</td>\n",
       "      <td>0</td>\n",
       "      <td>...</td>\n",
       "      <td>0</td>\n",
       "      <td>0</td>\n",
       "      <td>0</td>\n",
       "      <td>0</td>\n",
       "      <td>1</td>\n",
       "      <td>0</td>\n",
       "      <td>0</td>\n",
       "      <td>2</td>\n",
       "      <td>1</td>\n",
       "      <td>0</td>\n",
       "    </tr>\n",
       "    <tr>\n",
       "      <th>3</th>\n",
       "      <td>0b5948</td>\n",
       "      <td>1</td>\n",
       "      <td>1</td>\n",
       "      <td>2020-04-17</td>\n",
       "      <td>10-4-2020</td>\n",
       "      <td>9999-99-99</td>\n",
       "      <td>0</td>\n",
       "      <td>1</td>\n",
       "      <td>30</td>\n",
       "      <td>2</td>\n",
       "      <td>...</td>\n",
       "      <td>0</td>\n",
       "      <td>0</td>\n",
       "      <td>0</td>\n",
       "      <td>0</td>\n",
       "      <td>0</td>\n",
       "      <td>0</td>\n",
       "      <td>0</td>\n",
       "      <td>2</td>\n",
       "      <td>1</td>\n",
       "      <td>0</td>\n",
       "    </tr>\n",
       "    <tr>\n",
       "      <th>4</th>\n",
       "      <td>0d01b5</td>\n",
       "      <td>0</td>\n",
       "      <td>1</td>\n",
       "      <td>2020-04-13</td>\n",
       "      <td>13-04-2020</td>\n",
       "      <td>22-04-2020</td>\n",
       "      <td>0</td>\n",
       "      <td>0</td>\n",
       "      <td>60</td>\n",
       "      <td>0</td>\n",
       "      <td>...</td>\n",
       "      <td>0</td>\n",
       "      <td>1</td>\n",
       "      <td>0</td>\n",
       "      <td>1</td>\n",
       "      <td>0</td>\n",
       "      <td>0</td>\n",
       "      <td>0</td>\n",
       "      <td>2</td>\n",
       "      <td>1</td>\n",
       "      <td>0</td>\n",
       "    </tr>\n",
       "  </tbody>\n",
       "</table>\n",
       "<p>5 rows × 23 columns</p>\n",
       "</div>"
      ],
      "text/plain": [
       "       id  sex  patient_type entry_date date_symptoms   date_died  intubed  \\\n",
       "0  16169f    1             0 2020-04-05      2-5-2020  9999-99-99        2   \n",
       "1  1009bf    1             0 2020-03-19    17-03-2020  9999-99-99        2   \n",
       "2  167386    0             1 2020-06-04      1-4-2020  9999-99-99        0   \n",
       "3  0b5948    1             1 2020-04-17     10-4-2020  9999-99-99        0   \n",
       "4  0d01b5    0             1 2020-04-13    13-04-2020  22-04-2020        0   \n",
       "\n",
       "   pneumonia  age  pregnancy  ...  inmsupr  hypertension  other_disease  \\\n",
       "0          0   27          2  ...        0             0              0   \n",
       "1          0   24          2  ...        0             0              0   \n",
       "2          0   54          0  ...        0             0              0   \n",
       "3          1   30          2  ...        0             0              0   \n",
       "4          0   60          0  ...        0             1              0   \n",
       "\n",
       "   cardiovascular  obesity  renal_chronic  tobacco  contact_other_covid  \\\n",
       "0               0        0              0        0                    0   \n",
       "1               0        0              0        0                    2   \n",
       "2               0        1              0        0                    2   \n",
       "3               0        0              0        0                    2   \n",
       "4               1        0              0        0                    2   \n",
       "\n",
       "   covid_res  icu  \n",
       "0          1    2  \n",
       "1          1    2  \n",
       "2          1    0  \n",
       "3          1    0  \n",
       "4          1    0  \n",
       "\n",
       "[5 rows x 23 columns]"
      ]
     },
     "execution_count": 19,
     "metadata": {},
     "output_type": "execute_result"
    }
   ],
   "source": [
    "binary_columns = df[columns].replace(2,0).replace([97,98,99],2)\n",
    "df2 = df.drop(columns,axis=1)\n",
    "df2[columns] = binary_columns\n",
    "df2.reindex(columns=list(df.columns)).head()"
   ]
  },
  {
   "cell_type": "code",
   "execution_count": 20,
   "metadata": {},
   "outputs": [],
   "source": [
    "df2['covid_res'].replace([2,3],[0,2],inplace=True)"
   ]
  },
  {
   "cell_type": "markdown",
   "metadata": {},
   "source": [
    "## EDA"
   ]
  },
  {
   "cell_type": "code",
   "execution_count": 21,
   "metadata": {},
   "outputs": [
    {
     "data": {
      "image/png": "[encoded data removed]",
      "text/plain": [
       "<Figure size 1080x720 with 2 Axes>"
      ]
     },
     "metadata": {
      "needs_background": "light"
     },
     "output_type": "display_data"
    }
   ],
   "source": [
    "plt.figure(figsize=(15,10))\n",
    "sns.heatmap(df2.corr(),annot=True,cmap='viridis')\n",
    "plt.show()\n",
    "#ICU is mostly corrilated with Patient_type,intubed,Pneumonia"
   ]
  },
  {
   "cell_type": "markdown",
   "metadata": {},
   "source": [
    "##### From the above chart we can analyse that the ICU is mostly correlated with Patient_type,intubed,Pneumonia"
   ]
  },
  {
   "cell_type": "code",
   "execution_count": 22,
   "metadata": {},
   "outputs": [
    {
     "data": {
      "image/png": "[encoded data removed]",
      "text/plain": [
       "<Figure size 720x360 with 1 Axes>"
      ]
     },
     "metadata": {
      "needs_background": "light"
     },
     "output_type": "display_data"
    }
   ],
   "source": [
    "plt.figure(figsize=(10,5))\n",
    "df2.corr()['icu'][:-1].sort_values().plot(kind='bar')\n",
    "plt.show()\n",
    "#ICU is mostly corrilated with Patient_type,intubed,Pneumonia"
   ]
  },
  {
   "cell_type": "code",
   "execution_count": 23,
   "metadata": {},
   "outputs": [
    {
     "data": {
      "image/png": "[encoded data removed]",
      "text/plain": [
       "<Figure size 576x360 with 1 Axes>"
      ]
     },
     "metadata": {
      "needs_background": "light"
     },
     "output_type": "display_data"
    }
   ],
   "source": [
    "plt.figure(figsize=(8,5))\n",
    "sns.distplot(df2['age'],kde=False,bins=20,color = \"red\")\n",
    "plt.show()\n",
    "#age of 30 to 50 are more affected."
   ]
  },
  {
   "cell_type": "markdown",
   "metadata": {},
   "source": [
    "#####  From the above graph we can observe that the age of 30 to 50 are more affected by the COVID_19"
   ]
  },
  {
   "cell_type": "code",
   "execution_count": 24,
   "metadata": {},
   "outputs": [
    {
     "data": {
      "image/png": "[encoded data removed]",
      "text/plain": [
       "<Figure size 576x360 with 1 Axes>"
      ]
     },
     "metadata": {
      "needs_background": "light"
     },
     "output_type": "display_data"
    }
   ],
   "source": [
    "plt.figure(figsize=(8,5))\n",
    "sns.countplot(x='icu',data=df2)\n",
    "plt.title('Distribution of patients required to undergo ICU')\n",
    "plt.xlabel('Admitted to ICU')\n",
    "plt.ylabel('Count')\n",
    "plt.xticks([0,1,2],['No','Yes','No data'])\n",
    "plt.show()"
   ]
  },
  {
   "cell_type": "markdown",
   "metadata": {},
   "source": [
    "##### Above graph shows that very few patients got into the icu and lots of data is missing"
   ]
  },
  {
   "cell_type": "code",
   "execution_count": 25,
   "metadata": {},
   "outputs": [
    {
     "data": {
      "text/plain": [
       "(121788, 23)"
      ]
     },
     "execution_count": 25,
     "metadata": {},
     "output_type": "execute_result"
    }
   ],
   "source": [
    "df3 = df2[df2['icu'].isin([0,1])]\n",
    "df3.shape\n",
    "#Droping missing data in icu column"
   ]
  },
  {
   "cell_type": "code",
   "execution_count": 26,
   "metadata": {},
   "outputs": [
    {
     "data": {
      "image/png": "[encoded data removed]",
      "text/plain": [
       "<Figure size 576x432 with 1 Axes>"
      ]
     },
     "metadata": {
      "needs_background": "light"
     },
     "output_type": "display_data"
    }
   ],
   "source": [
    "plt.figure(figsize=(8,6))\n",
    "\n",
    "plot = sns.countplot(x='icu',hue='covid_res',data=df3)\n",
    "plot.legend_.set_title('Test result')\n",
    "labels = ['Negative','Positive','Awaiting Results']\n",
    "for text, label in zip(plot.legend_.texts, labels): \n",
    "    text.set_text(label)\n",
    "\n",
    "plt.title('Test result and ICU requirement')\n",
    "plt.xlabel('Admitted to ICU')\n",
    "plt.ylabel('Count')\n",
    "plt.xticks([0,1],['No','Yes'])\n",
    "\n",
    "plt.show()"
   ]
  },
  {
   "cell_type": "markdown",
   "metadata": {},
   "source": [
    "##### Above graph reveals that the most of the positive patients didn't go to the icu"
   ]
  },
  {
   "cell_type": "code",
   "execution_count": 27,
   "metadata": {},
   "outputs": [
    {
     "data": {
      "image/png": "[encoded data removed]",
      "text/plain": [
       "<Figure size 576x360 with 1 Axes>"
      ]
     },
     "metadata": {
      "needs_background": "light"
     },
     "output_type": "display_data"
    }
   ],
   "source": [
    "plt.figure(figsize=(8,5))\n",
    "\n",
    "plot = sns.countplot(x='icu',hue='patient_type',data=df2)\n",
    "plot.legend_.set_title('Patient type')\n",
    "labels = ['Outpatient','Inpatient']\n",
    "for text, label in zip(plot.legend_.texts, labels): \n",
    "    text.set_text(label)\n",
    "\n",
    "plt.title('Patient type and ICU Requirement')\n",
    "plt.xlabel('Admitted to ICU')\n",
    "plt.ylabel('Count')\n",
    "plt.xticks([0,1,2],['No','Yes','No data'])\n",
    "\n",
    "plt.show()"
   ]
  },
  {
   "cell_type": "markdown",
   "metadata": {},
   "source": [
    "##### Above graph shows that the lots of outpatient data is missing and very few inpatient types got the icu"
   ]
  },
  {
   "cell_type": "code",
   "execution_count": 28,
   "metadata": {},
   "outputs": [
    {
     "name": "stdout",
     "output_type": "stream",
     "text": [
      "Not admitted\n",
      "{'Inpatient': 111676}\n",
      "\n",
      "Admitted\n",
      "{'Inpatient': 10112}\n",
      "\n",
      "No data\n",
      "{'Outpatient': 444689, 'Inpatient': 125}\n",
      "\n"
     ]
    }
   ],
   "source": [
    "icu_status = ['Not admitted','Admitted','No data']\n",
    "\n",
    "for i in range(3):\n",
    "    print(icu_status[i])\n",
    "    print(df2[df2['icu']==i]['patient_type'].value_counts().rename({0:'Outpatient',1:'Inpatient'}).to_dict())\n",
    "    print()"
   ]
  },
  {
   "cell_type": "code",
   "execution_count": 29,
   "metadata": {},
   "outputs": [
    {
     "data": {
      "text/html": [
       "<div>\n",
       "<style scoped>\n",
       "    .dataframe tbody tr th:only-of-type {\n",
       "        vertical-align: middle;\n",
       "    }\n",
       "\n",
       "    .dataframe tbody tr th {\n",
       "        vertical-align: top;\n",
       "    }\n",
       "\n",
       "    .dataframe thead th {\n",
       "        text-align: right;\n",
       "    }\n",
       "</style>\n",
       "<table border=\"1\" class=\"dataframe\">\n",
       "  <thead>\n",
       "    <tr style=\"text-align: right;\">\n",
       "      <th></th>\n",
       "      <th>id</th>\n",
       "      <th>sex</th>\n",
       "      <th>entry_date</th>\n",
       "      <th>date_symptoms</th>\n",
       "      <th>date_died</th>\n",
       "      <th>age</th>\n",
       "      <th>covid_res</th>\n",
       "      <th>intubed</th>\n",
       "      <th>pneumonia</th>\n",
       "      <th>pregnancy</th>\n",
       "      <th>...</th>\n",
       "      <th>asthma</th>\n",
       "      <th>inmsupr</th>\n",
       "      <th>hypertension</th>\n",
       "      <th>other_disease</th>\n",
       "      <th>cardiovascular</th>\n",
       "      <th>obesity</th>\n",
       "      <th>renal_chronic</th>\n",
       "      <th>tobacco</th>\n",
       "      <th>contact_other_covid</th>\n",
       "      <th>icu</th>\n",
       "    </tr>\n",
       "  </thead>\n",
       "  <tbody>\n",
       "    <tr>\n",
       "      <th>2</th>\n",
       "      <td>167386</td>\n",
       "      <td>0</td>\n",
       "      <td>2020-06-04</td>\n",
       "      <td>1-4-2020</td>\n",
       "      <td>9999-99-99</td>\n",
       "      <td>54</td>\n",
       "      <td>1</td>\n",
       "      <td>0</td>\n",
       "      <td>0</td>\n",
       "      <td>0</td>\n",
       "      <td>...</td>\n",
       "      <td>0</td>\n",
       "      <td>0</td>\n",
       "      <td>0</td>\n",
       "      <td>0</td>\n",
       "      <td>0</td>\n",
       "      <td>1</td>\n",
       "      <td>0</td>\n",
       "      <td>0</td>\n",
       "      <td>2</td>\n",
       "      <td>0</td>\n",
       "    </tr>\n",
       "    <tr>\n",
       "      <th>3</th>\n",
       "      <td>0b5948</td>\n",
       "      <td>1</td>\n",
       "      <td>2020-04-17</td>\n",
       "      <td>10-4-2020</td>\n",
       "      <td>9999-99-99</td>\n",
       "      <td>30</td>\n",
       "      <td>1</td>\n",
       "      <td>0</td>\n",
       "      <td>1</td>\n",
       "      <td>2</td>\n",
       "      <td>...</td>\n",
       "      <td>0</td>\n",
       "      <td>0</td>\n",
       "      <td>0</td>\n",
       "      <td>0</td>\n",
       "      <td>0</td>\n",
       "      <td>0</td>\n",
       "      <td>0</td>\n",
       "      <td>0</td>\n",
       "      <td>2</td>\n",
       "      <td>0</td>\n",
       "    </tr>\n",
       "    <tr>\n",
       "      <th>4</th>\n",
       "      <td>0d01b5</td>\n",
       "      <td>0</td>\n",
       "      <td>2020-04-13</td>\n",
       "      <td>13-04-2020</td>\n",
       "      <td>22-04-2020</td>\n",
       "      <td>60</td>\n",
       "      <td>1</td>\n",
       "      <td>0</td>\n",
       "      <td>0</td>\n",
       "      <td>0</td>\n",
       "      <td>...</td>\n",
       "      <td>0</td>\n",
       "      <td>0</td>\n",
       "      <td>1</td>\n",
       "      <td>0</td>\n",
       "      <td>1</td>\n",
       "      <td>0</td>\n",
       "      <td>0</td>\n",
       "      <td>0</td>\n",
       "      <td>2</td>\n",
       "      <td>0</td>\n",
       "    </tr>\n",
       "    <tr>\n",
       "      <th>5</th>\n",
       "      <td>1beec8</td>\n",
       "      <td>1</td>\n",
       "      <td>2020-04-16</td>\n",
       "      <td>16-04-2020</td>\n",
       "      <td>29-04-2020</td>\n",
       "      <td>47</td>\n",
       "      <td>1</td>\n",
       "      <td>0</td>\n",
       "      <td>1</td>\n",
       "      <td>2</td>\n",
       "      <td>...</td>\n",
       "      <td>0</td>\n",
       "      <td>0</td>\n",
       "      <td>0</td>\n",
       "      <td>0</td>\n",
       "      <td>0</td>\n",
       "      <td>0</td>\n",
       "      <td>0</td>\n",
       "      <td>0</td>\n",
       "      <td>2</td>\n",
       "      <td>1</td>\n",
       "    </tr>\n",
       "    <tr>\n",
       "      <th>6</th>\n",
       "      <td>1.75E+56</td>\n",
       "      <td>1</td>\n",
       "      <td>2020-04-22</td>\n",
       "      <td>13-04-2020</td>\n",
       "      <td>9999-99-99</td>\n",
       "      <td>63</td>\n",
       "      <td>1</td>\n",
       "      <td>0</td>\n",
       "      <td>0</td>\n",
       "      <td>2</td>\n",
       "      <td>...</td>\n",
       "      <td>0</td>\n",
       "      <td>0</td>\n",
       "      <td>1</td>\n",
       "      <td>0</td>\n",
       "      <td>0</td>\n",
       "      <td>0</td>\n",
       "      <td>0</td>\n",
       "      <td>0</td>\n",
       "      <td>2</td>\n",
       "      <td>0</td>\n",
       "    </tr>\n",
       "  </tbody>\n",
       "</table>\n",
       "<p>5 rows × 22 columns</p>\n",
       "</div>"
      ],
      "text/plain": [
       "         id  sex entry_date date_symptoms   date_died  age  covid_res  \\\n",
       "2    167386    0 2020-06-04      1-4-2020  9999-99-99   54          1   \n",
       "3    0b5948    1 2020-04-17     10-4-2020  9999-99-99   30          1   \n",
       "4    0d01b5    0 2020-04-13    13-04-2020  22-04-2020   60          1   \n",
       "5    1beec8    1 2020-04-16    16-04-2020  29-04-2020   47          1   \n",
       "6  1.75E+56    1 2020-04-22    13-04-2020  9999-99-99   63          1   \n",
       "\n",
       "   intubed  pneumonia  pregnancy  ...  asthma  inmsupr  hypertension  \\\n",
       "2        0          0          0  ...       0        0             0   \n",
       "3        0          1          2  ...       0        0             0   \n",
       "4        0          0          0  ...       0        0             1   \n",
       "5        0          1          2  ...       0        0             0   \n",
       "6        0          0          2  ...       0        0             1   \n",
       "\n",
       "   other_disease  cardiovascular  obesity  renal_chronic  tobacco  \\\n",
       "2              0               0        1              0        0   \n",
       "3              0               0        0              0        0   \n",
       "4              0               1        0              0        0   \n",
       "5              0               0        0              0        0   \n",
       "6              0               0        0              0        0   \n",
       "\n",
       "   contact_other_covid  icu  \n",
       "2                    2    0  \n",
       "3                    2    0  \n",
       "4                    2    0  \n",
       "5                    2    1  \n",
       "6                    2    0  \n",
       "\n",
       "[5 rows x 22 columns]"
      ]
     },
     "execution_count": 29,
     "metadata": {},
     "output_type": "execute_result"
    }
   ],
   "source": [
    "df4 = df3.drop('patient_type',axis='columns')\n",
    "df4.head()\n",
    "#droping patient_type column"
   ]
  },
  {
   "cell_type": "code",
   "execution_count": 30,
   "metadata": {},
   "outputs": [
    {
     "data": {
      "text/plain": [
       "2    64\n",
       "3     7\n",
       "4     0\n",
       "5     0\n",
       "6     9\n",
       "Name: num_days_symptoms, dtype: int64"
      ]
     },
     "execution_count": 30,
     "metadata": {},
     "output_type": "execute_result"
    }
   ],
   "source": [
    "#Creating num_days_symptoms to see the number of days passed when the symptoms occured before testing.\n",
    "df4['entry_date'] = pd.to_datetime(df4['entry_date'],dayfirst=True)\n",
    "df4['date_symptoms'] = pd.to_datetime(df4['date_symptoms'],dayfirst=True)\n",
    "df4['num_days_symptoms'] = (df4['entry_date'] - df4['date_symptoms']).apply(lambda x: x.days)\n",
    "df4['num_days_symptoms'].head()"
   ]
  },
  {
   "cell_type": "markdown",
   "metadata": {},
   "source": [
    "### Feature engineering"
   ]
  },
  {
   "cell_type": "code",
   "execution_count": 31,
   "metadata": {},
   "outputs": [
    {
     "data": {
      "text/plain": [
       "0    120553\n",
       "1      1069\n",
       "Name: pregnancy, dtype: int64"
      ]
     },
     "execution_count": 31,
     "metadata": {},
     "output_type": "execute_result"
    }
   ],
   "source": [
    "# dropping female patients with missing value in pregnancy\n",
    "df5 = df4.drop(df4[(df4['pregnancy']==2) & (df4['sex']==0)].index,axis='index')\n",
    "\n",
    "# converting missing values into not pregnant since they are all male\n",
    "df5['pregnancy'].replace(2,0,inplace=True)\n",
    "df5['pregnancy'].value_counts()"
   ]
  },
  {
   "cell_type": "code",
   "execution_count": 32,
   "metadata": {},
   "outputs": [
    {
     "name": "stdout",
     "output_type": "stream",
     "text": [
      "intubed: {'No': 111686, 'Yes': 9936}\n",
      "pneumonia: {'Yes': 73577, 'No': 48045}\n",
      "pregnancy: {'No': 120553, 'Yes': 1069}\n",
      "diabetes: {'No': 85555, 'Yes': 35404, 'No data': 663}\n",
      "copd: {'No': 115557, 'Yes': 5487, 'No data': 578}\n",
      "asthma: {'No': 117907, 'Yes': 3137, 'No data': 578}\n",
      "inmsupr: {'No': 116237, 'Yes': 4714, 'No data': 671}\n",
      "hypertension: {'No': 80763, 'Yes': 40257, 'No data': 602}\n",
      "other_disease: {'No': 113317, 'Yes': 7272, 'No data': 1033}\n",
      "cardiovascular: {'No': 114687, 'Yes': 6295, 'No data': 640}\n",
      "obesity: {'No': 95927, 'Yes': 25068, 'No data': 627}\n",
      "renal_chronic: {'No': 113791, 'Yes': 7228, 'No data': 603}\n",
      "tobacco: {'No': 110264, 'Yes': 10726, 'No data': 632}\n",
      "contact_other_covid: {'No data': 62043, 'No': 42351, 'Yes': 17228}\n",
      "icu: {'No': 111529, 'Yes': 10093}\n"
     ]
    }
   ],
   "source": [
    "#Checking messing values\n",
    "columns = [\n",
    "    'intubed','pneumonia','pregnancy','diabetes','copd',\n",
    "    'asthma','inmsupr','hypertension','other_disease','cardiovascular',\n",
    "    'obesity','renal_chronic','tobacco','contact_other_covid','icu'\n",
    "]\n",
    "legend = {0:'No',1:'Yes',2:'No data'}\n",
    "\n",
    "for column in columns:\n",
    "    print('{}: {}'.format(column,df5[column].value_counts().rename(legend).to_dict()))"
   ]
  },
  {
   "cell_type": "code",
   "execution_count": 33,
   "metadata": {},
   "outputs": [],
   "source": [
    "columns = ['diabetes','copd','asthma',\n",
    "    'inmsupr','hypertension','other_disease','cardiovascular',\n",
    "    'obesity','renal_chronic','tobacco']\n",
    "    \n",
    "# dropping contact_other_covid column\n",
    "df6 = df5.drop('contact_other_covid',axis='columns')\n",
    "\n",
    "# dropping all rows with missing values\n",
    "df7 = df6[columns].replace(2,np.nan).dropna().astype('int8').merge(\n",
    "            df6[['id','sex', 'entry_date', 'date_symptoms', 'date_died', 'age',\n",
    "           'covid_res','intubed', 'pneumonia', 'pregnancy','icu', 'num_days_symptoms']],\n",
    "            left_index=True, right_index=True\n",
    "        )"
   ]
  },
  {
   "cell_type": "code",
   "execution_count": 34,
   "metadata": {},
   "outputs": [
    {
     "data": {
      "text/html": [
       "<div>\n",
       "<style scoped>\n",
       "    .dataframe tbody tr th:only-of-type {\n",
       "        vertical-align: middle;\n",
       "    }\n",
       "\n",
       "    .dataframe tbody tr th {\n",
       "        vertical-align: top;\n",
       "    }\n",
       "\n",
       "    .dataframe thead th {\n",
       "        text-align: right;\n",
       "    }\n",
       "</style>\n",
       "<table border=\"1\" class=\"dataframe\">\n",
       "  <thead>\n",
       "    <tr style=\"text-align: right;\">\n",
       "      <th></th>\n",
       "      <th>covid_negative</th>\n",
       "      <th>covid_positive</th>\n",
       "    </tr>\n",
       "  </thead>\n",
       "  <tbody>\n",
       "    <tr>\n",
       "      <th>2</th>\n",
       "      <td>0</td>\n",
       "      <td>1</td>\n",
       "    </tr>\n",
       "    <tr>\n",
       "      <th>3</th>\n",
       "      <td>0</td>\n",
       "      <td>1</td>\n",
       "    </tr>\n",
       "    <tr>\n",
       "      <th>4</th>\n",
       "      <td>0</td>\n",
       "      <td>1</td>\n",
       "    </tr>\n",
       "    <tr>\n",
       "      <th>5</th>\n",
       "      <td>0</td>\n",
       "      <td>1</td>\n",
       "    </tr>\n",
       "    <tr>\n",
       "      <th>6</th>\n",
       "      <td>0</td>\n",
       "      <td>1</td>\n",
       "    </tr>\n",
       "  </tbody>\n",
       "</table>\n",
       "</div>"
      ],
      "text/plain": [
       "   covid_negative  covid_positive\n",
       "2               0               1\n",
       "3               0               1\n",
       "4               0               1\n",
       "5               0               1\n",
       "6               0               1"
      ]
     },
     "execution_count": 34,
     "metadata": {},
     "output_type": "execute_result"
    }
   ],
   "source": [
    "covid_results = pd.get_dummies(df7['covid_res'].replace({0:'covid_negative',1:'covid_positive'}),drop_first=True)\n",
    "covid_results.head()"
   ]
  },
  {
   "cell_type": "code",
   "execution_count": 35,
   "metadata": {},
   "outputs": [],
   "source": [
    "df8 = pd.concat([df7,covid_results],axis='columns')"
   ]
  },
  {
   "cell_type": "code",
   "execution_count": 36,
   "metadata": {},
   "outputs": [],
   "source": [
    "columns = ['sex','age','num_days_symptoms','intubed', \n",
    "           'pneumonia', 'pregnancy','diabetes', 'copd', 'asthma',\n",
    "           'inmsupr', 'hypertension','other_disease', 'cardiovascular', 'obesity',\n",
    "           'renal_chronic','tobacco','covid_negative','covid_positive','icu']\n",
    "\n",
    "# dropped id, entry_date, date_symptoms, date_died, covid_res\n",
    "df9 = df8[columns]\n"
   ]
  },
  {
   "cell_type": "code",
   "execution_count": 37,
   "metadata": {},
   "outputs": [
    {
     "data": {
      "text/html": [
       "<div>\n",
       "<style scoped>\n",
       "    .dataframe tbody tr th:only-of-type {\n",
       "        vertical-align: middle;\n",
       "    }\n",
       "\n",
       "    .dataframe tbody tr th {\n",
       "        vertical-align: top;\n",
       "    }\n",
       "\n",
       "    .dataframe thead th {\n",
       "        text-align: right;\n",
       "    }\n",
       "</style>\n",
       "<table border=\"1\" class=\"dataframe\">\n",
       "  <thead>\n",
       "    <tr style=\"text-align: right;\">\n",
       "      <th></th>\n",
       "      <th>sex</th>\n",
       "      <th>age</th>\n",
       "      <th>num_days_symptoms</th>\n",
       "      <th>intubed</th>\n",
       "      <th>pneumonia</th>\n",
       "      <th>pregnancy</th>\n",
       "      <th>diabetes</th>\n",
       "      <th>copd</th>\n",
       "      <th>asthma</th>\n",
       "      <th>inmsupr</th>\n",
       "      <th>hypertension</th>\n",
       "      <th>other_disease</th>\n",
       "      <th>cardiovascular</th>\n",
       "      <th>obesity</th>\n",
       "      <th>renal_chronic</th>\n",
       "      <th>tobacco</th>\n",
       "      <th>covid_negative</th>\n",
       "      <th>covid_positive</th>\n",
       "      <th>icu</th>\n",
       "    </tr>\n",
       "  </thead>\n",
       "  <tbody>\n",
       "    <tr>\n",
       "      <th>2</th>\n",
       "      <td>0</td>\n",
       "      <td>54</td>\n",
       "      <td>64</td>\n",
       "      <td>0</td>\n",
       "      <td>0</td>\n",
       "      <td>0</td>\n",
       "      <td>0</td>\n",
       "      <td>0</td>\n",
       "      <td>0</td>\n",
       "      <td>0</td>\n",
       "      <td>0</td>\n",
       "      <td>0</td>\n",
       "      <td>0</td>\n",
       "      <td>1</td>\n",
       "      <td>0</td>\n",
       "      <td>0</td>\n",
       "      <td>0</td>\n",
       "      <td>1</td>\n",
       "      <td>0</td>\n",
       "    </tr>\n",
       "    <tr>\n",
       "      <th>3</th>\n",
       "      <td>1</td>\n",
       "      <td>30</td>\n",
       "      <td>7</td>\n",
       "      <td>0</td>\n",
       "      <td>1</td>\n",
       "      <td>0</td>\n",
       "      <td>0</td>\n",
       "      <td>0</td>\n",
       "      <td>0</td>\n",
       "      <td>0</td>\n",
       "      <td>0</td>\n",
       "      <td>0</td>\n",
       "      <td>0</td>\n",
       "      <td>0</td>\n",
       "      <td>0</td>\n",
       "      <td>0</td>\n",
       "      <td>0</td>\n",
       "      <td>1</td>\n",
       "      <td>0</td>\n",
       "    </tr>\n",
       "    <tr>\n",
       "      <th>4</th>\n",
       "      <td>0</td>\n",
       "      <td>60</td>\n",
       "      <td>0</td>\n",
       "      <td>0</td>\n",
       "      <td>0</td>\n",
       "      <td>0</td>\n",
       "      <td>1</td>\n",
       "      <td>0</td>\n",
       "      <td>0</td>\n",
       "      <td>0</td>\n",
       "      <td>1</td>\n",
       "      <td>0</td>\n",
       "      <td>1</td>\n",
       "      <td>0</td>\n",
       "      <td>0</td>\n",
       "      <td>0</td>\n",
       "      <td>0</td>\n",
       "      <td>1</td>\n",
       "      <td>0</td>\n",
       "    </tr>\n",
       "    <tr>\n",
       "      <th>5</th>\n",
       "      <td>1</td>\n",
       "      <td>47</td>\n",
       "      <td>0</td>\n",
       "      <td>0</td>\n",
       "      <td>1</td>\n",
       "      <td>0</td>\n",
       "      <td>1</td>\n",
       "      <td>0</td>\n",
       "      <td>0</td>\n",
       "      <td>0</td>\n",
       "      <td>0</td>\n",
       "      <td>0</td>\n",
       "      <td>0</td>\n",
       "      <td>0</td>\n",
       "      <td>0</td>\n",
       "      <td>0</td>\n",
       "      <td>0</td>\n",
       "      <td>1</td>\n",
       "      <td>1</td>\n",
       "    </tr>\n",
       "    <tr>\n",
       "      <th>6</th>\n",
       "      <td>1</td>\n",
       "      <td>63</td>\n",
       "      <td>9</td>\n",
       "      <td>0</td>\n",
       "      <td>0</td>\n",
       "      <td>0</td>\n",
       "      <td>0</td>\n",
       "      <td>0</td>\n",
       "      <td>0</td>\n",
       "      <td>0</td>\n",
       "      <td>1</td>\n",
       "      <td>0</td>\n",
       "      <td>0</td>\n",
       "      <td>0</td>\n",
       "      <td>0</td>\n",
       "      <td>0</td>\n",
       "      <td>0</td>\n",
       "      <td>1</td>\n",
       "      <td>0</td>\n",
       "    </tr>\n",
       "  </tbody>\n",
       "</table>\n",
       "</div>"
      ],
      "text/plain": [
       "   sex  age  num_days_symptoms  intubed  pneumonia  pregnancy  diabetes  copd  \\\n",
       "2    0   54                 64        0          0          0         0     0   \n",
       "3    1   30                  7        0          1          0         0     0   \n",
       "4    0   60                  0        0          0          0         1     0   \n",
       "5    1   47                  0        0          1          0         1     0   \n",
       "6    1   63                  9        0          0          0         0     0   \n",
       "\n",
       "   asthma  inmsupr  hypertension  other_disease  cardiovascular  obesity  \\\n",
       "2       0        0             0              0               0        1   \n",
       "3       0        0             0              0               0        0   \n",
       "4       0        0             1              0               1        0   \n",
       "5       0        0             0              0               0        0   \n",
       "6       0        0             1              0               0        0   \n",
       "\n",
       "   renal_chronic  tobacco  covid_negative  covid_positive  icu  \n",
       "2              0        0               0               1    0  \n",
       "3              0        0               0               1    0  \n",
       "4              0        0               0               1    0  \n",
       "5              0        0               0               1    1  \n",
       "6              0        0               0               1    0  "
      ]
     },
     "execution_count": 37,
     "metadata": {},
     "output_type": "execute_result"
    }
   ],
   "source": [
    "df9.head()"
   ]
  },
  {
   "cell_type": "markdown",
   "metadata": {},
   "source": [
    "## Modeling"
   ]
  },
  {
   "cell_type": "code",
   "execution_count": 38,
   "metadata": {},
   "outputs": [],
   "source": [
    "# Performing oversampling using SMOTE\n",
    "from imblearn.over_sampling import SMOTE"
   ]
  },
  {
   "cell_type": "code",
   "execution_count": 39,
   "metadata": {},
   "outputs": [],
   "source": [
    "#Using scaler\n",
    "from sklearn.preprocessing import MinMaxScaler"
   ]
  },
  {
   "cell_type": "code",
   "execution_count": 40,
   "metadata": {},
   "outputs": [
    {
     "name": "stdout",
     "output_type": "stream",
     "text": [
      "ICU values before oversampling\n",
      "0: 110201\n",
      "1: 9825\n",
      "\n",
      "ICU values after oversampling\n",
      "0: 110201\n",
      "1: 110201\n"
     ]
    }
   ],
   "source": [
    "X = df9.drop('icu',axis='columns')\n",
    "y = df9['icu']\n",
    "\n",
    "icu_before_oversampling = y.value_counts()\n",
    "print('ICU values before oversampling')\n",
    "print(f'0: {icu_before_oversampling[0]}')\n",
    "print(f'1: {icu_before_oversampling[1]}')\n",
    "\n",
    "sm = SMOTE(random_state=42)\n",
    "X_res, y_res = sm.fit_resample(X, y)\n",
    "\n",
    "icu_after_oversampling = y_res.value_counts()\n",
    "print('\\nICU values after oversampling')\n",
    "print(f'0: {icu_after_oversampling[0]}')\n",
    "print(f'1: {icu_after_oversampling[1]}')"
   ]
  },
  {
   "cell_type": "code",
   "execution_count": 41,
   "metadata": {},
   "outputs": [],
   "source": [
    "from sklearn.model_selection import train_test_split,cross_val_score"
   ]
  },
  {
   "cell_type": "code",
   "execution_count": 42,
   "metadata": {},
   "outputs": [
    {
     "name": "stdout",
     "output_type": "stream",
     "text": [
      "Lenght of training data: 154281\n",
      "Lenght of testing data: 66121\n"
     ]
    }
   ],
   "source": [
    "X_train, X_test, y_train, y_test = train_test_split(X_res, y_res, test_size=0.30, random_state=0,stratify=y_res)\n",
    "print('Lenght of training data:',len(X_train))\n",
    "print('Lenght of testing data:',len(X_test))"
   ]
  },
  {
   "cell_type": "code",
   "execution_count": 43,
   "metadata": {},
   "outputs": [],
   "source": [
    "from sklearn.metrics import precision_score,recall_score,fbeta_score,confusion_matrix,plot_confusion_matrix"
   ]
  },
  {
   "cell_type": "code",
   "execution_count": 44,
   "metadata": {},
   "outputs": [],
   "source": [
    "scaler = MinMaxScaler()\n",
    "\n",
    "# fit and transfrom\n",
    "X_train = scaler.fit_transform(X_train)\n",
    "X_test = scaler.transform(X_test)"
   ]
  },
  {
   "cell_type": "code",
   "execution_count": 45,
   "metadata": {},
   "outputs": [
    {
     "data": {
      "text/plain": [
       "(154281, 18)"
      ]
     },
     "execution_count": 45,
     "metadata": {},
     "output_type": "execute_result"
    }
   ],
   "source": [
    "X_train.shape"
   ]
  },
  {
   "cell_type": "code",
   "execution_count": 46,
   "metadata": {},
   "outputs": [],
   "source": [
    "# Creating classification_matrix for scores\n",
    "def classification_matrix(y_actual,y_predicted):\n",
    "    precision = precision_score(y_actual,y_predicted)\n",
    "    recall = recall_score(y_actual,y_predicted)\n",
    "    fb = fbeta_score(y_actual,y_predicted,beta=1)\n",
    "    print(\"precision :{}  Recall :{}  F1_score :{}\".format(precision,recall,fb))\n",
    "    return(precision,recall,fb)\n",
    "  "
   ]
  },
  {
   "cell_type": "markdown",
   "metadata": {},
   "source": [
    "#### Decision Tree"
   ]
  },
  {
   "cell_type": "code",
   "execution_count": 47,
   "metadata": {},
   "outputs": [],
   "source": [
    "from sklearn.tree import DecisionTreeClassifier\n",
    "from sklearn.preprocessing import StandardScaler"
   ]
  },
  {
   "cell_type": "code",
   "execution_count": 48,
   "metadata": {},
   "outputs": [
    {
     "name": "stdout",
     "output_type": "stream",
     "text": [
      "train1\n",
      "precision :0.8966861598440545  Recall :0.37567571071155414  F1_score :0.5295084962543395\n",
      "test1\n",
      "precision :0.8983223182511438  Recall :0.3741379310344828  F1_score :0.528262401503342\n",
      "\n",
      "\n",
      "train2\n",
      "precision :0.8895993413830955  Recall :0.4202304870302433  F1_score :0.5708173021896268\n",
      "test2\n",
      "precision :0.8906924315619967  Recall :0.41826981246218997  F1_score :0.5692291859627456\n",
      "\n",
      "\n",
      "train3\n",
      "precision :0.8898923904688701  Recall :0.4202304870302433  F1_score :0.5708776162509136\n",
      "test3\n",
      "precision :0.890979381443299  Recall :0.41826981246218997  F1_score :0.5692877727459861\n",
      "\n",
      "\n",
      "train4\n",
      "precision :0.8929558011049724  Recall :0.4190378657263971  F1_score :0.5704025904130016\n",
      "test4\n",
      "precision :0.8927113702623907  Recall :0.4167876588021779  F1_score :0.5682647695638726\n",
      "\n",
      "\n",
      "train5\n",
      "precision :0.8928778387924612  Recall :0.41945269052773493  F1_score :0.5707708590580349\n",
      "test5\n",
      "precision :0.8921803246879244  Recall :0.41724137931034483  F1_score :0.5685785536159601\n",
      "\n",
      "\n",
      "train6\n",
      "precision :0.6753041668162079  Recall :0.7317509495598968  F1_score :0.7023953213463572\n",
      "test6\n",
      "precision :0.6720995785772097  Recall :0.72843315184513  F1_score :0.6991334136534526\n",
      "\n",
      "\n",
      "train7\n",
      "precision :0.7777758762322016  Recall :0.5891419608249828  F1_score :0.670443229846651\n",
      "test7\n",
      "precision :0.770973422990714  Recall :0.582637628554144  F1_score :0.663703397422645\n",
      "\n",
      "\n",
      "train8\n",
      "precision :0.838322891566265  Recall :0.5637469050180838  F1_score :0.6741489427667887\n",
      "test8\n",
      "precision :0.8357120345774616  Recall :0.5614640048396854  F1_score :0.671672305549022\n",
      "\n",
      "\n",
      "train9\n",
      "precision :0.8416197413180098  Recall :0.567687740630793  F1_score :0.6780311827457538\n",
      "test9\n",
      "precision :0.8379544331101425  Recall :0.5640350877192982  F1_score :0.6742357131234972\n",
      "\n",
      "\n",
      "train10\n",
      "precision :0.8456836399284932  Recall :0.5703192854642797  F1_score :0.681226967266421\n",
      "test10\n",
      "precision :0.8385692487209406  Recall :0.5651845130066546  F1_score :0.6752556828448556\n",
      "\n",
      "\n",
      "train11\n",
      "precision :0.8363757298056315  Recall :0.5868215345924994  F1_score :0.6897192701786461\n",
      "test11\n",
      "precision :0.8280623031453597  Recall :0.5805202661826981  F1_score :0.6825399647918631\n",
      "\n",
      "\n",
      "train12\n",
      "precision :0.8059503101513014  Recall :0.6366653271282456  F1_score :0.7113753720696124\n",
      "test12\n",
      "precision :0.7918896193242624  Recall :0.6267090139140956  F1_score :0.6996825611238687\n",
      "\n",
      "\n",
      "train13\n",
      "precision :0.7908279912135204  Recall :0.6860554050375287  F1_score :0.7347253265954936\n",
      "test13\n",
      "precision :0.7729741019214703  Recall :0.6716878402903811  F1_score :0.7187803456981937\n",
      "\n",
      "\n",
      "train14\n",
      "precision :0.7589088798607081  Recall :0.7627850300099818  F1_score :0.7608420181540769\n",
      "test14\n",
      "precision :0.7425342775350309  Recall :0.7453418027828191  F1_score :0.7439353913502905\n",
      "\n",
      "\n",
      "train15\n",
      "precision :0.7882449650637073  Recall :0.7458290662552988  F1_score :0.7664506331137474\n",
      "test15\n",
      "precision :0.7621311213909715  Recall :0.722595281306715  F1_score :0.7418368139119633\n",
      "\n",
      "\n",
      "train16\n",
      "precision :0.7886422873390727  Recall :0.7766298077546311  F1_score :0.7825899534312605\n",
      "test16\n",
      "precision :0.7579664538205371  Recall :0.7504234724742892  F1_score :0.7541761031144076\n",
      "\n",
      "\n",
      "train17\n",
      "precision :0.7984915049959177  Recall :0.7987192284258695  F1_score :0.7986053504769804\n",
      "test17\n",
      "precision :0.7615783013501781  Recall :0.7694797338173018  F1_score :0.7655086288611709\n",
      "\n",
      "\n",
      "train18\n",
      "precision :0.8030535696304502  Recall :0.8270699109423004  F1_score :0.8148848258817669\n",
      "test18\n",
      "precision :0.7614960858219774  Recall :0.7944343617664852  F1_score :0.7776165803108809\n",
      "\n",
      "\n",
      "train19\n",
      "precision :0.8080191895577635  Recall :0.8602558950493253  F1_score :0.8333197295142182\n",
      "test19\n",
      "precision :0.7603351955307263  Recall :0.82335148215366  F1_score :0.7905896020911996\n",
      "\n",
      "\n",
      "train20\n",
      "precision :0.8289613192131622  Recall :0.8615003694533387  F1_score :0.8449176784692646\n",
      "test20\n",
      "precision :0.772608125819135  Recall :0.8202359346642468  F1_score :0.7957099680154934\n",
      "\n",
      "\n",
      "train21\n",
      "precision :0.8401141600464548  Recall :0.8814767762927626  F1_score :0.8602985829959515\n",
      "test21\n",
      "precision :0.7792511261261261  Recall :0.8372353297035693  F1_score :0.8072032662583845\n",
      "\n",
      "\n",
      "train22\n",
      "precision :0.8571606708647671  Recall :0.8910955263737831  F1_score :0.8737987491737429\n",
      "test22\n",
      "precision :0.7912595236072167  Recall :0.8450393224440411  F1_score :0.8172656398554858\n",
      "\n",
      "\n",
      "train23\n",
      "precision :0.8643025482397997  Recall :0.9127830855187254  F1_score :0.8878815199641885\n",
      "test23\n",
      "precision :0.7934149991685605  Recall :0.8659407138535995  F1_score :0.8280929102426889\n",
      "\n",
      "\n",
      "train24\n",
      "precision :0.8762692695399896  Recall :0.9240352082550135  F1_score :0.8995185725012145\n",
      "test24\n",
      "precision :0.7979848308697337  Recall :0.8719903206291592  F1_score :0.8333477871245628\n",
      "\n",
      "\n",
      "train25\n",
      "precision :0.8871128871128872  Recall :0.9324224472070624  F1_score :0.9092035241622529\n",
      "test25\n",
      "precision :0.8038348897607338  Recall :0.8800362976406534  F1_score :0.8402113957316545\n",
      "\n",
      "\n",
      "train26\n",
      "precision :0.8947336070611954  Recall :0.943506047367807  F1_score :0.9184728084953341\n",
      "test26\n",
      "precision :0.8076246011662449  Recall :0.8881427707199032  F1_score :0.8459721101763282\n",
      "\n",
      "\n",
      "train27\n",
      "precision :0.905664363473679  Recall :0.9447245952217368  F1_score :0.9247822142136554\n",
      "test27\n",
      "precision :0.8146968395978174  Recall :0.8896854204476708  F1_score :0.8505414744878041\n",
      "\n",
      "\n",
      "train28\n",
      "precision :0.9116284845098405  Recall :0.9517377270193542  F1_score :0.9312514269768386\n",
      "test28\n",
      "precision :0.8179457428587215  Recall :0.8955837870538415  F1_score :0.8550059198937306\n",
      "\n",
      "\n",
      "train29\n",
      "precision :0.9177457346178293  Recall :0.9546026108035934  F1_score :0.9358114118693608\n",
      "test29\n",
      "precision :0.8209905595083192  Recall :0.897005444646098  F1_score :0.8573163151732413\n",
      "\n",
      "\n",
      "train30\n",
      "precision :0.9224304783786821  Recall :0.9576100906132925  F1_score :0.9396911413015824\n",
      "test30\n",
      "precision :0.8245579949485137  Recall :0.8986085904416213  F1_score :0.8599921839945578\n",
      "\n",
      "\n",
      "train31\n",
      "precision :0.9256577631052421  Recall :0.9595805084196471  F1_score :0.9423139349114309\n",
      "test31\n",
      "precision :0.8256717743726405  Recall :0.899697519661222  F1_score :0.8610966359793873\n",
      "\n",
      "\n",
      "train32\n",
      "precision :0.9287936181421368  Recall :0.9599175535707342  F1_score :0.9440991413107921\n",
      "test32\n",
      "precision :0.8279641684749346  Recall :0.9002419842710224  F1_score :0.8625916586963454\n",
      "\n",
      "\n",
      "train33\n",
      "precision :0.9311927759331925  Recall :0.9598138473703997  F1_score :0.9452867165008011\n",
      "test33\n",
      "precision :0.8287608277859789  Recall :0.9000302480338778  F1_score :0.8629264968171337\n",
      "\n",
      "\n",
      "train34\n",
      "precision :0.9324944951242529  Recall :0.9607083133482843  F1_score :0.9463911733156255\n",
      "test34\n",
      "precision :0.8291091593475534  Recall :0.8994555353901996  F1_score :0.8628509249183896\n",
      "\n",
      "\n",
      "train35\n",
      "precision :0.9331335691893184  Recall :0.9607860929985351  F1_score :0.9467579582034643\n",
      "test35\n",
      "precision :0.8301844668322496  Recall :0.8998185117967332  F1_score :0.8636000754793666\n",
      "\n",
      "\n",
      "train36\n",
      "precision :0.9335776166011887  Recall :0.9611101748745803  F1_score :0.9471438517600618\n",
      "test36\n",
      "precision :0.8306035324646335  Recall :0.9004234724742892  F1_score :0.8641054296869332\n",
      "\n",
      "\n",
      "train37\n",
      "precision :0.933716962363222  Recall :0.961265734175082  F1_score :0.9472910997841055\n",
      "test37\n",
      "precision :0.83107202680067  Recall :0.900453720508167  F1_score :0.8643728222996516\n",
      "\n",
      "\n",
      "train38\n",
      "precision :0.9338009368861129  Recall :0.9612916607251656  F1_score :0.9473469048820526\n",
      "test38\n",
      "precision :0.8296211635491874  Recall :0.9002117362371446  F1_score :0.8634761289948211\n",
      "\n",
      "\n",
      "train39\n",
      "precision :0.9338463088431604  Recall :0.961265734175082  F1_score :0.9473576625550154\n",
      "test39\n",
      "precision :0.8309414786687513  Recall :0.9002117362371446  F1_score :0.8641907195539811\n",
      "\n",
      "\n",
      "train40\n",
      "precision :0.9338916876574307  Recall :0.9612398076249984  F1_score :0.9473684210526316\n",
      "test40\n",
      "precision :0.8300334634690463  Recall :0.9003327283726558  F1_score :0.8637550783517121\n",
      "\n",
      "\n",
      "train41\n",
      "precision :0.9338832567218689  Recall :0.9612916607251656  F1_score :0.947389265774916\n",
      "test41\n",
      "precision :0.8305747062271471  Recall :0.9000907441016334  F1_score :0.8639365918097753\n",
      "\n",
      "\n",
      "train42\n",
      "precision :0.93389501788323  Recall :0.9612916607251656  F1_score :0.9473953176402952\n",
      "test42\n",
      "precision :0.8309521151914276  Recall :0.9007259528130671  F1_score :0.8644333488156062\n",
      "\n",
      "\n",
      "train43\n",
      "precision :0.93389501788323  Recall :0.9612916607251656  F1_score :0.9473953176402952\n",
      "test43\n",
      "precision :0.8302624232272473  Recall :0.8995765275257108  F1_score :0.8635307781649244\n",
      "\n",
      "\n"
     ]
    },
    {
     "name": "stdout",
     "output_type": "stream",
     "text": [
      "train44\n",
      "precision :0.93389501788323  Recall :0.9612916607251656  F1_score :0.9473953176402952\n",
      "test44\n",
      "precision :0.830007246780757  Recall :0.900756200846945  F1_score :0.863935710348429\n",
      "\n",
      "\n",
      "train45\n",
      "precision :0.93389501788323  Recall :0.9612916607251656  F1_score :0.9473953176402952\n",
      "test45\n",
      "precision :0.8307606420097697  Recall :0.9002419842710224  F1_score :0.8641068447412353\n",
      "\n",
      "\n",
      "train46\n",
      "precision :0.93389501788323  Recall :0.9612916607251656  F1_score :0.9473953176402952\n",
      "test46\n",
      "precision :0.8302507880715262  Recall :0.9002419842710224  F1_score :0.8638309605700437\n",
      "\n",
      "\n",
      "train47\n",
      "precision :0.93389501788323  Recall :0.9612916607251656  F1_score :0.9473953176402952\n",
      "test47\n",
      "precision :0.8301865744485037  Recall :0.9004234724742892  F1_score :0.8638797393966656\n",
      "\n",
      "\n",
      "train48\n",
      "precision :0.93389501788323  Recall :0.9612916607251656  F1_score :0.9473953176402952\n",
      "test48\n",
      "precision :0.8297415595639689  Recall :0.9002419842710224  F1_score :0.863555252506202\n",
      "\n",
      "\n",
      "train49\n",
      "precision :0.93389501788323  Recall :0.9612916607251656  F1_score :0.9473953176402952\n",
      "test49\n",
      "precision :0.830280217482225  Recall :0.9007259528130671  F1_score :0.8640696409140369\n",
      "\n",
      "\n",
      "train50\n",
      "precision :0.93389501788323  Recall :0.9612916607251656  F1_score :0.9473953176402952\n",
      "test50\n",
      "precision :0.8306872401573705  Recall :0.9005142165759226  F1_score :0.8641925136794439\n",
      "\n",
      "\n",
      "train51\n",
      "precision :0.93389501788323  Recall :0.9612916607251656  F1_score :0.9473953176402952\n",
      "test51\n",
      "precision :0.8304002231209037  Recall :0.9006049606775559  F1_score :0.8640789378219544\n",
      "\n",
      "\n",
      "train52\n",
      "precision :0.93389501788323  Recall :0.9612916607251656  F1_score :0.9473953176402952\n",
      "test52\n",
      "precision :0.8303902697575808  Recall :0.9003932244404114  F1_score :0.8639760837070255\n",
      "\n",
      "\n",
      "train53\n",
      "precision :0.93389501788323  Recall :0.9612916607251656  F1_score :0.9473953176402952\n",
      "test53\n",
      "precision :0.8308275919779086  Recall :0.9009679370840895  F1_score :0.8644773693604794\n",
      "\n",
      "\n",
      "train54\n",
      "precision :0.93389501788323  Recall :0.9612916607251656  F1_score :0.9473953176402952\n",
      "test54\n",
      "precision :0.8307297478241464  Recall :0.9007864488808227  F1_score :0.8643408602774714\n",
      "\n",
      "\n",
      "train55\n",
      "precision :0.93389501788323  Recall :0.9612916607251656  F1_score :0.9473953176402952\n",
      "test55\n",
      "precision :0.8305713648030354  Recall :0.9005142165759226  F1_score :0.8641298037849761\n",
      "\n",
      "\n",
      "train56\n",
      "precision :0.93389501788323  Recall :0.9612916607251656  F1_score :0.9473953176402952\n",
      "test56\n",
      "precision :0.8303713416845688  Recall :0.9002722323049002  F1_score :0.8639101345369578\n",
      "\n",
      "\n",
      "train57\n",
      "precision :0.93389501788323  Recall :0.9612916607251656  F1_score :0.9473953176402952\n",
      "test57\n",
      "precision :0.8305940787454307  Recall :0.9003629764065336  F1_score :0.864072455985021\n",
      "\n",
      "\n",
      "train58\n",
      "precision :0.93389501788323  Recall :0.9612916607251656  F1_score :0.9473953176402952\n",
      "test58\n",
      "precision :0.8307524901648949  Recall :0.9006352087114338  F1_score :0.8642835372490966\n",
      "\n",
      "\n",
      "train59\n",
      "precision :0.93389501788323  Recall :0.9612916607251656  F1_score :0.9473953176402952\n",
      "test59\n",
      "precision :0.8305760915050914  Recall :0.9005444646098003  F1_score :0.864146288368043\n",
      "\n",
      "\n",
      "train60\n",
      "precision :0.93389501788323  Recall :0.9612916607251656  F1_score :0.9473953176402952\n",
      "test60\n",
      "precision :0.8305704398303193  Recall :0.9002117362371446  F1_score :0.8639900133542356\n",
      "\n",
      "\n",
      "train61\n",
      "precision :0.93389501788323  Recall :0.9612916607251656  F1_score :0.9473953176402952\n",
      "test61\n",
      "precision :0.8304659398265622  Recall :0.9008771929824562  F1_score :0.8642398038390668\n",
      "\n",
      "\n",
      "train62\n",
      "precision :0.93389501788323  Recall :0.9612916607251656  F1_score :0.9473953176402952\n",
      "test62\n",
      "precision :0.8309324399776661  Recall :0.900302480338778  F1_score :0.8642276422764228\n",
      "\n",
      "\n",
      "train63\n",
      "precision :0.93389501788323  Recall :0.9612916607251656  F1_score :0.9473953176402952\n",
      "test63\n",
      "precision :0.8305798961879779  Recall :0.9002722323049002  F1_score :0.8640229918425406\n",
      "\n",
      "\n",
      "train64\n",
      "precision :0.93389501788323  Recall :0.9612916607251656  F1_score :0.9473953176402952\n",
      "test64\n",
      "precision :0.8309104606713357  Recall :0.900756200846945  F1_score :0.8644247376594725\n",
      "\n",
      "\n",
      "train65\n",
      "precision :0.93389501788323  Recall :0.9612916607251656  F1_score :0.9473953176402952\n",
      "test65\n",
      "precision :0.8308228730822873  Recall :0.9009376890502118  F1_score :0.8644608910172689\n",
      "\n",
      "\n",
      "train66\n",
      "precision :0.93389501788323  Recall :0.9612916607251656  F1_score :0.9473953176402952\n",
      "test66\n",
      "precision :0.8303265203691828  Recall :0.9007259528130671  F1_score :0.8640947143914223\n",
      "\n",
      "\n",
      "train67\n",
      "precision :0.93389501788323  Recall :0.9612916607251656  F1_score :0.9473953176402952\n",
      "test67\n",
      "precision :0.8309945599107268  Recall :0.9009981851179674  F1_score :0.8645816704157898\n",
      "\n",
      "\n",
      "train68\n",
      "precision :0.93389501788323  Recall :0.9612916607251656  F1_score :0.9473953176402952\n",
      "test68\n",
      "precision :0.8300730089728585  Recall :0.9010284331518451  F1_score :0.8640965393206277\n",
      "\n",
      "\n",
      "train69\n",
      "precision :0.93389501788323  Recall :0.9612916607251656  F1_score :0.9473953176402952\n",
      "test69\n",
      "precision :0.8304607318161535  Recall :0.9006957047791894  F1_score :0.8641534621858495\n",
      "\n",
      "\n",
      "train70\n",
      "precision :0.93389501788323  Recall :0.9612916607251656  F1_score :0.9473953176402952\n",
      "test70\n",
      "precision :0.8304039727708961  Recall :0.9003327283726558  F1_score :0.863955648438407\n",
      "\n",
      "\n",
      "train71\n",
      "precision :0.93389501788323  Recall :0.9612916607251656  F1_score :0.9473953176402952\n",
      "test71\n",
      "precision :0.8305032761745434  Recall :0.9009679370840895  F1_score :0.8643017772941604\n",
      "\n",
      "\n",
      "train72\n",
      "precision :0.93389501788323  Recall :0.9612916607251656  F1_score :0.9473953176402952\n",
      "test72\n",
      "precision :0.8302923780828032  Recall :0.9002117362371446  F1_score :0.8638395448740277\n",
      "\n",
      "\n",
      "train73\n",
      "precision :0.93389501788323  Recall :0.9612916607251656  F1_score :0.9473953176402952\n",
      "test73\n",
      "precision :0.8304692294816716  Recall :0.900453720508167  F1_score :0.8640466722781761\n",
      "\n",
      "\n",
      "train74\n",
      "precision :0.93389501788323  Recall :0.9612916607251656  F1_score :0.9473953176402952\n",
      "test74\n",
      "precision :0.8303623734203699  Recall :0.9003629764065336  F1_score :0.8639470590796291\n",
      "\n",
      "\n",
      "train75\n",
      "precision :0.93389501788323  Recall :0.9612916607251656  F1_score :0.9473953176402952\n",
      "test75\n",
      "precision :0.8309831625387429  Recall :0.9001814882032668  F1_score :0.8641993233923309\n",
      "\n",
      "\n",
      "train76\n",
      "precision :0.93389501788323  Recall :0.9612916607251656  F1_score :0.9473953176402952\n",
      "test76\n",
      "precision :0.8301176601795572  Recall :0.9005747126436782  F1_score :0.8639120215883702\n",
      "\n",
      "\n",
      "train77\n",
      "precision :0.93389501788323  Recall :0.9612916607251656  F1_score :0.9473953176402952\n",
      "test77\n",
      "precision :0.8307340345395196  Recall :0.9006654567453115  F1_score :0.8642874765975356\n",
      "\n",
      "\n",
      "train78\n",
      "precision :0.93389501788323  Recall :0.9612916607251656  F1_score :0.9473953176402952\n",
      "test78\n",
      "precision :0.8302560383778658  Recall :0.9004234724742892  F1_score :0.8639173462576545\n",
      "\n",
      "\n",
      "train79\n",
      "precision :0.93389501788323  Recall :0.9612916607251656  F1_score :0.9473953176402952\n",
      "test79\n",
      "precision :0.8300744749100444  Recall :0.900151240169389  F1_score :0.8636937499093033\n",
      "\n",
      "\n",
      "train80\n",
      "precision :0.93389501788323  Recall :0.9612916607251656  F1_score :0.9473953176402952\n",
      "test80\n",
      "precision :0.8300298291098659  Recall :0.9006049606775559  F1_score :0.8638783711247479\n",
      "\n",
      "\n",
      "train81\n",
      "precision :0.93389501788323  Recall :0.9612916607251656  F1_score :0.9473953176402952\n",
      "test81\n",
      "precision :0.8308353568338497  Recall :0.9004234724742892  F1_score :0.8642308641437675\n",
      "\n",
      "\n",
      "train82\n",
      "precision :0.93389501788323  Recall :0.9612916607251656  F1_score :0.9473953176402952\n",
      "test82\n",
      "precision :0.8305902700290114  Recall :0.9006352087114338  F1_score :0.8641957392465316\n",
      "\n",
      "\n",
      "train83\n",
      "precision :0.93389501788323  Recall :0.9612916607251656  F1_score :0.9473953176402952\n",
      "test83\n",
      "precision :0.8303108085486302  Recall :0.9001814882032668  F1_score :0.8638355925807669\n",
      "\n",
      "\n",
      "train84\n",
      "precision :0.93389501788323  Recall :0.9612916607251656  F1_score :0.9473953176402952\n",
      "test84\n",
      "precision :0.8304881450488145  Recall :0.9005747126436782  F1_score :0.8641126106515745\n",
      "\n",
      "\n",
      "train85\n",
      "precision :0.93389501788323  Recall :0.9612916607251656  F1_score :0.9473953176402952\n",
      "test85\n",
      "precision :0.8308400781468044  Recall :0.900453720508167  F1_score :0.8642473508491798\n",
      "\n",
      "\n",
      "train86\n",
      "precision :0.93389501788323  Recall :0.9612916607251656  F1_score :0.9473953176402952\n",
      "test86\n",
      "precision :0.8302618005408872  Recall :0.900756200846945  F1_score :0.8640735850972767\n",
      "\n",
      "\n"
     ]
    },
    {
     "name": "stdout",
     "output_type": "stream",
     "text": [
      "train87\n",
      "precision :0.93389501788323  Recall :0.9612916607251656  F1_score :0.9473953176402952\n",
      "test87\n",
      "precision :0.8308684004911262  Recall :0.9006352087114338  F1_score :0.8643462610311193\n",
      "\n",
      "\n",
      "train88\n",
      "precision :0.93389501788323  Recall :0.9612916607251656  F1_score :0.9473953176402952\n",
      "test88\n",
      "precision :0.8302781730420468  Recall :0.9001209921355112  F1_score :0.8637900756157385\n",
      "\n",
      "\n",
      "train89\n",
      "precision :0.93389501788323  Recall :0.9612916607251656  F1_score :0.9473953176402952\n",
      "test89\n",
      "precision :0.8302155064261618  Recall :0.900756200846945  F1_score :0.8640485136879978\n",
      "\n",
      "\n",
      "train90\n",
      "precision :0.93389501788323  Recall :0.9612916607251656  F1_score :0.9473953176402952\n",
      "test90\n",
      "precision :0.8304527207850134  Recall :0.9010889292196007  F1_score :0.8643300644113039\n",
      "\n",
      "\n",
      "train91\n",
      "precision :0.93389501788323  Recall :0.9612916607251656  F1_score :0.9473953176402952\n",
      "test91\n",
      "precision :0.8307576433831734  Recall :0.9008166969147006  F1_score :0.8643698844836593\n",
      "\n",
      "\n",
      "train92\n",
      "precision :0.93389501788323  Recall :0.9612916607251656  F1_score :0.9473953176402952\n",
      "test92\n",
      "precision :0.8305902700290114  Recall :0.9006352087114338  F1_score :0.8641957392465316\n",
      "\n",
      "\n",
      "train93\n",
      "precision :0.93389501788323  Recall :0.9612916607251656  F1_score :0.9473953176402952\n",
      "test93\n",
      "precision :0.8302612866345055  Recall :0.9006049606775559  F1_score :0.8640037143976438\n",
      "\n",
      "\n",
      "train94\n",
      "precision :0.93389501788323  Recall :0.9612916607251656  F1_score :0.9473953176402952\n",
      "test94\n",
      "precision :0.8302592292881659  Recall :0.9  F1_score :0.8637241099031887\n",
      "\n",
      "\n",
      "train95\n",
      "precision :0.93389501788323  Recall :0.9612916607251656  F1_score :0.9473953176402952\n",
      "test95\n",
      "precision :0.8304886211512718  Recall :0.9007259528130671  F1_score :0.8641824830228104\n",
      "\n",
      "\n",
      "train96\n",
      "precision :0.93389501788323  Recall :0.9612916607251656  F1_score :0.9473953176402952\n",
      "test96\n",
      "precision :0.8313750662833859  Recall :0.901058681185723  F1_score :0.8648154330754381\n",
      "\n",
      "\n",
      "train97\n",
      "precision :0.93389501788323  Recall :0.9612916607251656  F1_score :0.9473953176402952\n",
      "test97\n",
      "precision :0.8307280035730237  Recall :0.9001814882032668  F1_score :0.8640613204808083\n",
      "\n",
      "\n",
      "train98\n",
      "precision :0.93389501788323  Recall :0.9612916607251656  F1_score :0.9473953176402952\n",
      "test98\n",
      "precision :0.8309465985540017  Recall :0.9003932244404114  F1_score :0.8642771075591946\n",
      "\n",
      "\n",
      "train99\n",
      "precision :0.93389501788323  Recall :0.9612916607251656  F1_score :0.9473953176402952\n",
      "test99\n",
      "precision :0.8305108389364729  Recall :0.9004234724742892  F1_score :0.8640552660987185\n",
      "\n",
      "\n"
     ]
    }
   ],
   "source": [
    "max_depth = np.arange(1,100)\n",
    "for d in max_depth:\n",
    "    model = DecisionTreeClassifier(max_depth=d)\n",
    "    model.fit(X_train,y_train)\n",
    "    y_train_pre = model.predict(X_train)\n",
    "    print(f\"train{d}\")\n",
    "    classification_matrix(y_train,y_train_pre)\n",
    "    y_test_pre = model.predict(X_test)\n",
    "    print(f\"test{d}\")\n",
    "    classification_matrix(y_test,y_test_pre)\n",
    "    print(\"\\n\")"
   ]
  },
  {
   "cell_type": "markdown",
   "metadata": {},
   "source": [
    "#### Best Score from Decision Tree"
   ]
  },
  {
   "cell_type": "markdown",
   "metadata": {},
   "source": [
    ">Best Score from Decision Tree\n",
    "train37\n",
    "precision :0.933716962363222  Recall :0.961265734175082  F1_score 0.9472910997841055:\n",
    "test37\n",
    "precision :0.8303439426483304  Recall :0.9003932244404114  F1_score 0.8639510078509337:"
   ]
  },
  {
   "cell_type": "code",
   "execution_count": 49,
   "metadata": {},
   "outputs": [],
   "source": [
    "#Scalling the data\n",
    "scaler1 = StandardScaler()\n",
    "x_train_scaled = scaler1.fit_transform(X_train)\n",
    "x_test_scaled = scaler1.transform(X_test)"
   ]
  },
  {
   "cell_type": "code",
   "execution_count": 50,
   "metadata": {},
   "outputs": [
    {
     "name": "stdout",
     "output_type": "stream",
     "text": [
      "train1\n",
      "precision :0.8966861598440545  Recall :0.37567571071155414  F1_score :0.5295084962543395\n",
      "test1\n",
      "precision :0.8983223182511438  Recall :0.3741379310344828  F1_score :0.528262401503342\n",
      "\n",
      "\n",
      "train2\n",
      "precision :0.8895993413830955  Recall :0.4202304870302433  F1_score :0.5708173021896268\n",
      "test2\n",
      "precision :0.8906924315619967  Recall :0.41826981246218997  F1_score :0.5692291859627456\n",
      "\n",
      "\n",
      "train3\n",
      "precision :0.8898923904688701  Recall :0.4202304870302433  F1_score :0.5708776162509136\n",
      "test3\n",
      "precision :0.890979381443299  Recall :0.41826981246218997  F1_score :0.5692877727459861\n",
      "\n",
      "\n",
      "train4\n",
      "precision :0.8929558011049724  Recall :0.4190378657263971  F1_score :0.5704025904130016\n",
      "test4\n",
      "precision :0.8927113702623907  Recall :0.4167876588021779  F1_score :0.5682647695638726\n",
      "\n",
      "\n",
      "train5\n",
      "precision :0.8928778387924612  Recall :0.41945269052773493  F1_score :0.5707708590580349\n",
      "test5\n",
      "precision :0.8921803246879244  Recall :0.41724137931034483  F1_score :0.5685785536159601\n",
      "\n",
      "\n",
      "train6\n",
      "precision :0.6753041668162079  Recall :0.7317509495598968  F1_score :0.7023953213463572\n",
      "test6\n",
      "precision :0.6720995785772097  Recall :0.72843315184513  F1_score :0.6991334136534526\n",
      "\n",
      "\n",
      "train7\n",
      "precision :0.7777758762322016  Recall :0.5891419608249828  F1_score :0.670443229846651\n",
      "test7\n",
      "precision :0.7708991956460842  Recall :0.5826981246218996  F1_score :0.663715137211666\n",
      "\n",
      "\n",
      "train8\n",
      "precision :0.8382968060294146  Recall :0.5637728315681674  F1_score :0.6741590451092855\n",
      "test8\n",
      "precision :0.8357039971191934  Recall :0.5615849969751966  F1_score :0.6717562775888269\n",
      "\n",
      "\n",
      "train9\n",
      "precision :0.8416106092638862  Recall :0.5676488508056675  F1_score :0.6780004799838973\n",
      "test9\n",
      "precision :0.8380224719101124  Recall :0.5640048396854205  F1_score :0.6742361236666065\n",
      "\n",
      "\n",
      "train10\n",
      "precision :0.8456570626789937  Recall :0.5703452120143633  F1_score :0.6812368388455344\n",
      "test10\n",
      "precision :0.8388110632183908  Recall :0.5650937689050212  F1_score :0.6752692835971951\n",
      "\n",
      "\n",
      "train11\n",
      "precision :0.8363878214602424  Recall :0.5868733876926667  F1_score :0.6897591967638971\n",
      "test11\n",
      "precision :0.8281054493679079  Recall :0.5805505142165759  F1_score :0.6825755285666021\n",
      "\n",
      "\n",
      "train12\n",
      "precision :0.8059530060383303  Recall :0.6367301435034547  F1_score :0.7114168809066881\n",
      "test12\n",
      "precision :0.791997859981657  Recall :0.6268905021173624  F1_score :0.6998379144998987\n",
      "\n",
      "\n",
      "train13\n",
      "precision :0.790890609584741  Recall :0.6858739191869434  F1_score :0.7346482549864968\n",
      "test13\n",
      "precision :0.7731326644370122  Recall :0.671264367816092  F1_score :0.7186063078816141\n",
      "\n",
      "\n",
      "train14\n",
      "precision :0.7588946058519349  Recall :0.7628887362103162  F1_score :0.7608864294580058\n",
      "test14\n",
      "precision :0.7428554202339323  Recall :0.7453720508166969  F1_score :0.7441116076820873\n",
      "\n",
      "\n",
      "train15\n",
      "precision :0.7882046715528461  Recall :0.7458420295303405  F1_score :0.7664384291575638\n",
      "test15\n",
      "precision :0.762286188409497  Recall :0.7225347852389594  F1_score :0.7418783775389775\n",
      "\n",
      "\n",
      "train16\n",
      "precision :0.7885655624432424  Recall :0.776707587404882  F1_score :0.782591658938624\n",
      "test16\n",
      "precision :0.7580748663101604  Recall :0.7503932244404113  F1_score :0.7542144865850878\n",
      "\n",
      "\n",
      "train17\n",
      "precision :0.7986309184255562  Recall :0.7985377425752842  F1_score :0.7985843277825673\n",
      "test17\n",
      "precision :0.7618862042088854  Recall :0.7687537810042347  F1_score :0.765304586106176\n",
      "\n",
      "\n",
      "train18\n",
      "precision :0.8030078026680091  Recall :0.8271476905925513  F1_score :0.8148990108619997\n",
      "test18\n",
      "precision :0.7616619342875355  Recall :0.7951603145795523  F1_score :0.7780507295705448\n",
      "\n",
      "\n",
      "train19\n",
      "precision :0.808130259520417  Recall :0.8602170052241999  F1_score :0.8333605435342284\n",
      "test19\n",
      "precision :0.7603575918424361  Recall :0.8232607380520266  F1_score :0.7905598721951927\n",
      "\n",
      "\n",
      "train20\n",
      "precision :0.8291015259460741  Recall :0.8614096265280461  F1_score :0.8449468490921113\n",
      "test20\n",
      "precision :0.7725743928856459  Recall :0.8198729582577132  F1_score :0.7955212491195115\n",
      "\n",
      "\n",
      "train21\n",
      "precision :0.8398760968024583  Recall :0.8822286462451874  F1_score :0.8605315732240852\n",
      "test21\n",
      "precision :0.7779868033132107  Recall :0.8381125226860254  F1_score :0.8069311976701855\n",
      "\n",
      "\n",
      "train22\n",
      "precision :0.8572265868562164  Recall :0.8911084896488248  F1_score :0.8738392306665564\n",
      "test22\n",
      "precision :0.7910853261638602  Recall :0.8455232909860859  F1_score :0.8173989326705168\n",
      "\n",
      "\n",
      "train23\n",
      "precision :0.8645037699241104  Recall :0.912614562943182  F1_score :0.8879079300015765\n",
      "test23\n",
      "precision :0.793861594765443  Recall :0.8660919540229886  F1_score :0.8284052771669946\n",
      "\n",
      "\n",
      "train24\n",
      "precision :0.8761507921875192  Recall :0.9240352082550135  F1_score :0.899456144557029\n",
      "test24\n",
      "precision :0.7984493977571646  Recall :0.8722323049001814  F1_score :0.8337116010119262\n",
      "\n",
      "\n",
      "train25\n",
      "precision :0.8870307335602585  Recall :0.9323705941068952  F1_score :0.90913572444304\n",
      "test25\n",
      "precision :0.8046682706933267  Recall :0.880096793708409  F1_score :0.8406940290960576\n",
      "\n",
      "\n",
      "train26\n",
      "precision :0.8948080209498752  Recall :0.9434801208177234  F1_score :0.9184997286689636\n",
      "test26\n",
      "precision :0.8080891456871647  Recall :0.8883847549909256  F1_score :0.8463367192565376\n",
      "\n",
      "\n",
      "train27\n",
      "precision :0.9056585014230143  Recall :0.9446597788465277  F1_score :0.9247481028400294\n",
      "test27\n",
      "precision :0.8155385553522922  Recall :0.8899879007864488  F1_score :0.851138303103937\n",
      "\n",
      "\n",
      "train28\n",
      "precision :0.9118450798698233  Recall :0.9516210575439779  F1_score :0.9313085564584166\n",
      "test28\n",
      "precision :0.8185059281983251  Recall :0.8958257713248639  F1_score :0.855422208743122\n",
      "\n",
      "\n",
      "train29\n",
      "precision :0.9176395828401261  Recall :0.9547063170039278  F1_score :0.9358060458201501\n",
      "test29\n",
      "precision :0.8214869620639011  Recall :0.89670296430732  F1_score :0.8574486239460858\n",
      "\n",
      "\n"
     ]
    }
   ],
   "source": [
    "#DT by scaled data\n",
    "max_depth = np.arange(1,30)\n",
    "for d2 in max_depth:\n",
    "    model = DecisionTreeClassifier(max_depth=d2)\n",
    "    model.fit(x_train_scaled,y_train)\n",
    "    y_train_pre = model.predict(x_train_scaled)\n",
    "    print(f\"train{d2}\")\n",
    "    classification_matrix(y_train,y_train_pre)\n",
    "    y_test_pre = model.predict(x_test_scaled)\n",
    "    print(f\"test{d2}\")\n",
    "    classification_matrix(y_test,y_test_pre)\n",
    "    print(\"\\n\")"
   ]
  },
  {
   "cell_type": "markdown",
   "metadata": {},
   "source": [
    ">DT Best score on scaled data\n",
    "train29\n",
    "precision :0.9176697819314642  Recall :0.9546544639037606  F1_score 0.9357968371762044:\n",
    "test29\n",
    "precision :0.8210637060826712  Recall :0.8970356926799758  F1_score 0.8573700111305455:"
   ]
  },
  {
   "cell_type": "markdown",
   "metadata": {},
   "source": [
    "#### Random forest"
   ]
  },
  {
   "cell_type": "code",
   "execution_count": 51,
   "metadata": {},
   "outputs": [],
   "source": [
    "from sklearn.ensemble import RandomForestClassifier"
   ]
  },
  {
   "cell_type": "code",
   "execution_count": 52,
   "metadata": {},
   "outputs": [
    {
     "name": "stdout",
     "output_type": "stream",
     "text": [
      "Train_d\n",
      "precision :0.554279112351223  Recall :0.9888515834640463  F1_score :0.7103737608433484\n",
      "(0.554279112351223, 0.9888515834640463, 0.7103737608433484)\n",
      "Test_d\n",
      "precision :0.5513655195738564  Recall :0.986237144585602  F1_score :0.7073051683930799\n",
      "(0.5513655195738564, 0.986237144585602, 0.7073051683930799)\n"
     ]
    }
   ],
   "source": [
    "RF_model = RandomForestClassifier(n_estimators=300,criterion=\"entropy\",class_weight={1:2,0:0.5},max_depth=10,n_jobs=-1)\n",
    "RF_model.fit(X_train,y_train)\n",
    "y_train_pr = RF_model.predict(X_train)\n",
    "y_test_pr = RF_model.predict(X_test)\n",
    "print(\"Train_d\")\n",
    "print(classification_matrix(y_train,y_train_pr))\n",
    "print(\"Test_d\")\n",
    "print(classification_matrix(y_test,y_test_pr))"
   ]
  },
  {
   "cell_type": "code",
   "execution_count": 53,
   "metadata": {},
   "outputs": [
    {
     "name": "stdout",
     "output_type": "stream",
     "text": [
      "train1\n",
      "precision :0.5000032408397664  Recall :1.0  F1_score :0.6666695474069018\n",
      "(0.5000032408397664, 1.0, 0.6666695474069018)\n",
      "Test1\n",
      "precision :0.4999924381058968  Recall :1.0  F1_score :0.6666599449491335\n",
      "(0.4999924381058968, 1.0, 0.6666599449491335)\n",
      "train2\n",
      "precision :0.5000421341941673  Recall :1.0  F1_score :0.6667041182317099\n",
      "(0.5000421341941673, 1.0, 0.6667041182317099)\n",
      "Test2\n",
      "precision :0.5000302498638756  Recall :1.0  F1_score :0.6666935548923126\n",
      "(0.5000302498638756, 1.0, 0.6666935548923126)\n",
      "train3\n",
      "precision :0.5012806011674922  Recall :0.9996499915738712  F1_score :0.6677259443662733\n",
      "(0.5012806011674922, 0.9996499915738712, 0.6677259443662733)\n",
      "Test3\n",
      "precision :0.5012131505519835  Recall :0.9997580157289776  F1_score :0.6676901943355824\n",
      "(0.5012131505519835, 0.9997580157289776, 0.6676901943355824)\n",
      "train4\n",
      "precision :0.5058580153674395  Recall :0.9985221866452341  F1_score :0.6715196742963503\n",
      "(0.5058580153674395, 0.9985221866452341, 0.6715196742963503)\n",
      "Test4\n",
      "precision :0.5052741162601999  Recall :0.9983061101028433  F1_score :0.6709562000020328\n",
      "(0.5052741162601999, 0.9983061101028433, 0.6709562000020328)\n",
      "train5\n",
      "precision :0.5139689845725678  Recall :0.9959036050867891  F1_score :0.6780221962359068\n",
      "(0.5139689845725678, 0.9959036050867891, 0.6780221962359068)\n",
      "Test5\n",
      "precision :0.5132559807866255  Recall :0.9954930429522081  F1_score :0.6773064970879381\n",
      "(0.5132559807866255, 0.9954930429522081, 0.6773064970879381)\n",
      "train6\n",
      "precision :0.5257830365542958  Recall :0.9925201903008776  F1_score :0.6874124618423415\n",
      "(0.5257830365542958, 0.9925201903008776, 0.6874124618423415)\n",
      "Test6\n",
      "precision :0.5241200728876954  Recall :0.9918330308529946  F1_score :0.6858254376607893\n",
      "(0.5241200728876954, 0.9918330308529946, 0.6858254376607893)\n",
      "train7\n",
      "precision :0.5311753264795777  Recall :0.9912757158968641  F1_score :0.6917019823519568\n",
      "(0.5311753264795777, 0.9912757158968641, 0.6917019823519568)\n",
      "Test7\n",
      "precision :0.5293432922688912  Recall :0.9903811252268603  F1_score :0.6899298312156267\n",
      "(0.5293432922688912, 0.9903811252268603, 0.6899298312156267)\n",
      "train8\n",
      "precision :0.5384859423028115  Recall :0.990147910968227  F1_score :0.6975911592118181\n",
      "(0.5384859423028115, 0.990147910968227, 0.6975911592118181)\n",
      "Test8\n",
      "precision :0.5366221915874814  Recall :0.9890502117362372  F1_score :0.6957539391231263\n",
      "(0.5366221915874814, 0.9890502117362372, 0.6957539391231263)\n",
      "train9\n",
      "precision :0.5470265619959135  Recall :0.9891238122399243  F1_score :0.7044583752642803\n",
      "(0.5470265619959135, 0.9891238122399243, 0.7044583752642803)\n",
      "Test9\n",
      "precision :0.5449900652852683  Recall :0.9872958257713249  F1_score :0.702305515809405\n",
      "(0.5449900652852683, 0.9872958257713249, 0.702305515809405)\n",
      "train10\n",
      "precision :0.5543301365882011  Recall :0.9890719591397571  F1_score :0.710472527830674\n",
      "(0.5543301365882011, 0.9890719591397571, 0.710472527830674)\n",
      "Test10\n",
      "precision :0.5517614809299807  Recall :0.9863278886872353  F1_score :0.7076542459688796\n",
      "(0.5517614809299807, 0.9863278886872353, 0.7076542459688796)\n",
      "train11\n",
      "precision :0.5618359728756654  Recall :0.9892015918901751  F1_score :0.7166416228399699\n",
      "(0.5618359728756654, 0.9892015918901751, 0.7166416228399699)\n",
      "Test11\n",
      "precision :0.558352049651105  Recall :0.9850877192982456  F1_score :0.7127271931456334\n",
      "(0.558352049651105, 0.9850877192982456, 0.7127271931456334)\n",
      "train12\n",
      "precision :0.5706126842687558  Recall :0.9895127104911785  F1_score :0.7238245153214833\n",
      "(0.5706126842687558, 0.9895127104911785, 0.7238245153214833)\n",
      "Test12\n",
      "precision :0.5667467697558597  Recall :0.9844525105868118  F1_score :0.719359900979157\n",
      "(0.5667467697558597, 0.9844525105868118, 0.719359900979157)\n",
      "train13\n",
      "precision :0.5786788949103725  Recall :0.9897201228918474  F1_score :0.7303372936157186\n",
      "(0.5786788949103725, 0.9897201228918474, 0.7303372936157186)\n",
      "Test13\n",
      "precision :0.5729892867858593  Recall :0.9820024198427102  F1_score :0.7237040091842307\n",
      "(0.5729892867858593, 0.9820024198427102, 0.7237040091842307)\n",
      "train14\n",
      "precision :0.5875063421534109  Recall :0.9907053317950247  F1_score :0.737601521066677\n",
      "(0.5875063421534109, 0.9907053317950247, 0.737601521066677)\n",
      "Test14\n",
      "precision :0.5799824784108991  Recall :0.9812159709618875  F1_score :0.7290400152824443\n",
      "(0.5799824784108991, 0.9812159709618875, 0.7290400152824443)\n",
      "train15\n",
      "precision :0.5981890828908992  Recall :0.9917294305233274  F1_score :0.7462542432400796\n",
      "(0.5981890828908992, 0.9917294305233274, 0.7462542432400796)\n",
      "Test15\n",
      "precision :0.5883891118415079  Recall :0.980096793708409  F1_score :0.7353311622734855\n",
      "(0.5883891118415079, 0.980096793708409, 0.7353311622734855)\n",
      "train16\n",
      "precision :0.6089588088856368  Recall :0.9925331535759194  F1_score :0.7548109152569108\n",
      "(0.6089588088856368, 0.9925331535759194, 0.7548109152569108)\n",
      "Test16\n",
      "precision :0.597244029037442  Recall :0.9780096793708409  F1_score :0.7416080828468868\n",
      "(0.597244029037442, 0.9780096793708409, 0.7416080828468868)\n",
      "train17\n",
      "precision :0.6218657188762842  Recall :0.9934405828288458  F1_score :0.7649157829070492\n",
      "(0.6218657188762842, 0.9934405828288458, 0.7649157829070492)\n",
      "Test17\n",
      "precision :0.6082950177131228  Recall :0.9764367816091954  F1_score :0.7496052387144714\n",
      "(0.6082950177131228, 0.9764367816091954, 0.7496052387144714)\n",
      "train18\n",
      "precision :0.6343555136538811  Recall :0.9943480120817724  F1_score :0.7745671744278221\n",
      "(0.6343555136538811, 0.9943480120817724, 0.7745671744278221)\n",
      "Test18\n",
      "precision :0.6186865293428807  Recall :0.9748336358136721  F1_score :0.7569611631102394\n",
      "(0.6186865293428807, 0.9748336358136721, 0.7569611631102394)\n",
      "train19\n",
      "precision :0.6497701314864831  Recall :0.9948665430834446  F1_score :0.7861123061479525\n",
      "(0.6497701314864831, 0.9948665430834446, 0.7861123061479525)\n",
      "Test19\n",
      "precision :0.6311575146210308  Recall :0.9727767695099818  F1_score :0.7655866879329635\n",
      "(0.6311575146210308, 0.9727767695099818, 0.7655866879329635)\n",
      "train20\n",
      "precision :0.6686587968811256  Recall :0.9949572860087372  F1_score :0.7998082594333233\n",
      "(0.6686587968811256, 0.9949572860087372, 0.7998082594333233)\n",
      "Test20\n",
      "precision :0.6472797770507694  Recall :0.9695099818511796  F1_score :0.7762842403545738\n",
      "(0.6472797770507694, 0.9695099818511796, 0.7762842403545738)\n",
      "train21\n",
      "precision :0.6853473282102087  Recall :0.9954110006352005  F1_score :0.8117791333213519\n",
      "(0.6853473282102087, 0.9954110006352005, 0.8117791333213519)\n",
      "Test21\n",
      "precision :0.6616841365337303  Recall :0.9680883242589232  F1_score :0.7860835820162351\n",
      "(0.6616841365337303, 0.9680883242589232, 0.7860835820162351)\n",
      "train22\n",
      "precision :0.7047473116306382  Recall :0.9956961926861202  F1_score :0.8253308189481487\n",
      "(0.7047473116306382, 0.9956961926861202, 0.8253308189481487)\n",
      "Test22\n",
      "precision :0.6767629665741114  Recall :0.9657894736842105  F1_score :0.7958474058749486\n",
      "(0.6767629665741114, 0.9657894736842105, 0.7958474058749486)\n",
      "train23\n",
      "precision :0.7269493818168059  Recall :0.9962017604127507  F1_score :0.8405394467717414\n",
      "(0.7269493818168059, 0.9962017604127507, 0.8405394467717414)\n",
      "Test23\n",
      "precision :0.6948701737556956  Recall :0.9640955837870538  F1_score :0.8076372435986773\n",
      "(0.6948701737556956, 0.9640955837870538, 0.8076372435986773)\n",
      "train24\n",
      "precision :0.7508960398456956  Recall :0.996720291414423  F1_score :0.8565190268247037\n",
      "(0.7508960398456956, 0.996720291414423, 0.8565190268247037)\n",
      "Test24\n",
      "precision :0.7146449903444559  Recall :0.9626739261947973  F1_score :0.8203211588524886\n",
      "(0.7146449903444559, 0.9626739261947973, 0.8203211588524886)\n",
      "train25\n",
      "precision :0.7795699469783757  Recall :0.9968239976147574  F1_score :0.8749118215951758\n",
      "(0.7795699469783757, 0.9968239976147574, 0.8749118215951758)\n",
      "Test25\n",
      "precision :0.7376668061561352  Recall :0.9597701149425287  F1_score :0.8341877645450483\n",
      "(0.7376668061561352, 0.9597701149425287, 0.8341877645450483)\n",
      "train26\n",
      "precision :0.8078955940609666  Recall :0.9966814015892975  F1_score :0.8924135849757412\n",
      "(0.8078955940609666, 0.9966814015892975, 0.8924135849757412)\n",
      "Test26\n",
      "precision :0.7592716979321594  Recall :0.9573805202661827  F1_score :0.8468948171139593\n",
      "(0.7592716979321594, 0.9573805202661827, 0.8468948171139593)\n",
      "train27\n",
      "precision :0.8331202600216685  Recall :0.9968369608897992  F1_score :0.9076551720067753\n",
      "(0.8331202600216685, 0.9968369608897992, 0.9076551720067753)\n",
      "Test27\n",
      "precision :0.778761716822891  Recall :0.9549606775559588  F1_score :0.8579076086956522\n",
      "(0.778761716822891, 0.9549606775559588, 0.8579076086956522)\n"
     ]
    },
    {
     "name": "stdout",
     "output_type": "stream",
     "text": [
      "train28\n",
      "precision :0.8550921241368574  Recall :0.9968888139899664  F1_score :0.9205621461148952\n",
      "(0.8550921241368574, 0.9968888139899664, 0.9205621461148952)\n",
      "Test28\n",
      "precision :0.7957481230567002  Recall :0.9521778584392014  F1_score :0.8669631914512731\n",
      "(0.7957481230567002, 0.9521778584392014, 0.8669631914512731)\n",
      "train29\n",
      "precision :0.8703647124056534  Recall :0.9970702998405517  F1_score :0.9294190149354729\n",
      "(0.8703647124056534, 0.9970702998405517, 0.9294190149354729)\n",
      "Test29\n",
      "precision :0.8077743784867728  Recall :0.9503932244404114  F1_score :0.8732993315452285\n",
      "(0.8077743784867728, 0.9503932244404114, 0.8732993315452285)\n"
     ]
    }
   ],
   "source": [
    "max_depth = np.arange(1,30)\n",
    "for d1 in max_depth:\n",
    "    RF_model = RandomForestClassifier(n_estimators=300,criterion=\"entropy\",class_weight={1:2,0:0.5},max_depth=d1,n_jobs=-1)\n",
    "    RF_model.fit(X_train,y_train)\n",
    "    y_train_pr = RF_model.predict(X_train)\n",
    "    y_test_pr = RF_model.predict(X_test)\n",
    "    print(f\"train{d1}\")\n",
    "    print(classification_matrix(y_train,y_train_pr))\n",
    "    print(f\"Test{d1}\")\n",
    "    print(classification_matrix(y_test,y_test_pr))"
   ]
  },
  {
   "cell_type": "markdown",
   "metadata": {},
   "source": [
    "#### Random_Forest best Score"
   ]
  },
  {
   "cell_type": "markdown",
   "metadata": {},
   "source": [
    ">Random_Forest best Score\n",
    "train29\n",
    "precision :0.8711570266657604  Recall :0.9969277038150919  F1_score 0.9298085467812042:\n",
    "(0.8711570266657604, 0.9969277038150919, 0.9298085467812042)\n",
    "Test29\n",
    "precision :0.808217062245791  Recall :0.9496672716273442  F1_score 0.873251189052374:\n",
    "(0.808217062245791, 0.9496672716273442, 0.873251189052374)"
   ]
  },
  {
   "cell_type": "markdown",
   "metadata": {},
   "source": [
    "#### Logistic Regression"
   ]
  },
  {
   "cell_type": "code",
   "execution_count": 54,
   "metadata": {},
   "outputs": [],
   "source": [
    "from sklearn.linear_model import LogisticRegression"
   ]
  },
  {
   "cell_type": "code",
   "execution_count": 55,
   "metadata": {},
   "outputs": [],
   "source": [
    "LR_model = LogisticRegression()"
   ]
  },
  {
   "cell_type": "code",
   "execution_count": 56,
   "metadata": {},
   "outputs": [
    {
     "data": {
      "text/plain": [
       "LogisticRegression()"
      ]
     },
     "execution_count": 56,
     "metadata": {},
     "output_type": "execute_result"
    }
   ],
   "source": [
    "LR_model.fit(X_train,y_train)"
   ]
  },
  {
   "cell_type": "code",
   "execution_count": 57,
   "metadata": {},
   "outputs": [],
   "source": [
    "y_train_predict = LR_model.predict(X_train)"
   ]
  },
  {
   "cell_type": "code",
   "execution_count": 58,
   "metadata": {},
   "outputs": [],
   "source": [
    "y_train_prob = LR_model.predict_proba(X_train)"
   ]
  },
  {
   "cell_type": "code",
   "execution_count": 59,
   "metadata": {},
   "outputs": [],
   "source": [
    "y_test_predict = LR_model.predict(X_test)"
   ]
  },
  {
   "cell_type": "code",
   "execution_count": 60,
   "metadata": {},
   "outputs": [],
   "source": [
    "y_test_prob = LR_model.predict_proba(X_test)"
   ]
  },
  {
   "cell_type": "code",
   "execution_count": 61,
   "metadata": {},
   "outputs": [
    {
     "data": {
      "text/plain": [
       "array([[0.21117222, 0.78882778],\n",
       "       [0.42584837, 0.57415163],\n",
       "       [0.8269905 , 0.1730095 ],\n",
       "       ...,\n",
       "       [0.33596161, 0.66403839],\n",
       "       [0.88633915, 0.11366085],\n",
       "       [0.66378177, 0.33621823]])"
      ]
     },
     "execution_count": 61,
     "metadata": {},
     "output_type": "execute_result"
    }
   ],
   "source": [
    "y_train_prob"
   ]
  },
  {
   "cell_type": "code",
   "execution_count": 62,
   "metadata": {},
   "outputs": [],
   "source": [
    "def proba_class(y_proba,threshold = 0.5):\n",
    "    predicted_class = [1 if a[1] > threshold else 0 for a in y_proba]\n",
    "  #print(predicted_class)\n",
    "    return np.array(predicted_class)"
   ]
  },
  {
   "cell_type": "code",
   "execution_count": 63,
   "metadata": {},
   "outputs": [
    {
     "data": {
      "text/plain": [
       "array([[62012, 15128],\n",
       "       [27972, 49169]], dtype=int64)"
      ]
     },
     "execution_count": 63,
     "metadata": {},
     "output_type": "execute_result"
    }
   ],
   "source": [
    "y_pred_train = proba_class(y_train_prob,0.5)\n",
    "confusion_matrix(y_train,y_pred_train)"
   ]
  },
  {
   "cell_type": "code",
   "execution_count": 64,
   "metadata": {},
   "outputs": [
    {
     "data": {
      "text/plain": [
       "array([[26589,  6472],\n",
       "       [12069, 20991]], dtype=int64)"
      ]
     },
     "execution_count": 64,
     "metadata": {},
     "output_type": "execute_result"
    }
   ],
   "source": [
    "y_pred_test = proba_class(y_test_prob,0.5)\n",
    "confusion_matrix(y_test,y_pred_test)"
   ]
  },
  {
   "cell_type": "code",
   "execution_count": 65,
   "metadata": {},
   "outputs": [
    {
     "data": {
      "image/png": "[encoded data removed]",
      "text/plain": [
       "<Figure size 432x288 with 2 Axes>"
      ]
     },
     "metadata": {
      "needs_background": "light"
     },
     "output_type": "display_data"
    }
   ],
   "source": [
    "## Visualize your confusion Matrix\n",
    "plot_confusion_matrix(LR_model,X_train,y_pred_train)\n",
    "plt.show()"
   ]
  },
  {
   "cell_type": "code",
   "execution_count": 66,
   "metadata": {},
   "outputs": [
    {
     "name": "stdout",
     "output_type": "stream",
     "text": [
      "precision :0.7647168608177676  Recall :0.6373912705305869  F1_score :0.6952728403964987\n"
     ]
    },
    {
     "data": {
      "text/plain": [
       "(0.7647168608177676, 0.6373912705305869, 0.6952728403964987)"
      ]
     },
     "execution_count": 66,
     "metadata": {},
     "output_type": "execute_result"
    }
   ],
   "source": [
    "classification_matrix(y_train,y_pred_train)"
   ]
  },
  {
   "cell_type": "code",
   "execution_count": 67,
   "metadata": {},
   "outputs": [
    {
     "name": "stdout",
     "output_type": "stream",
     "text": [
      "precision :0.7643374722353712  Recall :0.6349364791288566  F1_score :0.693653652330519\n"
     ]
    },
    {
     "data": {
      "text/plain": [
       "(0.7643374722353712, 0.6349364791288566, 0.693653652330519)"
      ]
     },
     "execution_count": 67,
     "metadata": {},
     "output_type": "execute_result"
    }
   ],
   "source": [
    "classification_matrix(y_test,y_pred_test)"
   ]
  },
  {
   "cell_type": "code",
   "execution_count": 68,
   "metadata": {},
   "outputs": [
    {
     "name": "stdout",
     "output_type": "stream",
     "text": [
      "precision :0.5246360313530787  Recall :0.9917423937983693  F1_score :0.6862453131447229\n",
      "Threshold0.1\n",
      "precision :0.5594321823245785  Recall :0.9686159111237863  F1_score :0.7092380342184571\n",
      "Threshold0.2\n",
      "precision :0.6034441541587692  Recall :0.916231316679846  F1_score :0.7276480308029671\n",
      "Threshold0.3\n",
      "precision :0.673939498368459  Recall :0.8112417521162546  F1_score :0.7362439558112447\n",
      "Threshold0.4\n",
      "precision :0.7647168608177676  Recall :0.6373912705305869  F1_score :0.6952728403964987\n",
      "Threshold0.5\n",
      "precision :0.8359857896790357  Recall :0.5277349269519451  F1_score :0.6470223620845849\n",
      "Threshold0.6\n",
      "precision :0.8802879151408006  Recall :0.45183495158216774  F1_score :0.5971594024122807\n",
      "Threshold0.7\n",
      "precision :0.9155675363435063  Recall :0.3698422369427412  F1_score :0.5268600764528818\n",
      "Threshold0.8\n",
      "precision :0.9400151143019082  Recall :0.2579950998820342  F1_score :0.4048701595923224\n",
      "Threshold0.9\n"
     ]
    }
   ],
   "source": [
    "thresholds = []\n",
    "prec = []\n",
    "recall = []\n",
    "fbe = []\n",
    "for threshold in range(10,100,10):\n",
    "    thr = threshold/100\n",
    "    y_pred_train1 = proba_class(y_train_prob,thr)\n",
    "    p,r,f = classification_matrix(y_train,y_pred_train1)\n",
    "    print(f\"Threshold{thr}\")\n",
    "    prec.append(p)\n",
    "    recall.append(r)\n",
    "    fbe.append(f)\n",
    "    thresholds.append(thr)"
   ]
  },
  {
   "cell_type": "code",
   "execution_count": 69,
   "metadata": {},
   "outputs": [
    {
     "name": "stdout",
     "output_type": "stream",
     "text": [
      "precision :0.5238818376546565  Recall :0.991318814277072  F1_score :0.685498546298814\n",
      "Threshold0.1\n",
      "precision :0.559917463759246  Recall :0.9685420447670902  F1_score :0.7096080756147018\n",
      "Threshold0.2\n",
      "precision :0.6028282747921556  Recall :0.9167876588021778  F1_score :0.727375266985049\n",
      "Threshold0.3\n",
      "precision :0.6715544730961408  Recall :0.8090139140955838  F1_score :0.7339031651734877\n",
      "Threshold0.4\n",
      "precision :0.7643374722353712  Recall :0.6349364791288566  F1_score :0.693653652330519\n",
      "Threshold0.5\n",
      "precision :0.837353748374982  Recall :0.526043557168784  F1_score :0.6461572758178676\n",
      "Threshold0.6\n",
      "precision :0.8798768574980759  Recall :0.449546279491833  F1_score :0.5950631618986607\n",
      "Threshold0.7\n",
      "precision :0.913808732436924  Recall :0.3659104658197217  F1_score :0.5225711693809667\n",
      "Threshold0.8\n",
      "precision :0.9397415905546892  Recall :0.25520266182698126  F1_score :0.40139873447832913\n",
      "Threshold0.9\n"
     ]
    }
   ],
   "source": [
    "thresholds = []\n",
    "prec = []\n",
    "recall = []\n",
    "fbe = []\n",
    "for threshold in range(10,100,10):\n",
    "    thr = threshold/100\n",
    "    y_pred_test1 = proba_class(y_test_prob,thr)\n",
    "    p,r,f = classification_matrix(y_test,y_pred_test1)\n",
    "    print(f\"Threshold{thr}\")\n",
    "    prec.append(p)\n",
    "    recall.append(r)\n",
    "    fbe.append(f)\n",
    "    thresholds.append(thr)"
   ]
  },
  {
   "cell_type": "markdown",
   "metadata": {},
   "source": [
    "#### Best Scores from Logistic R"
   ]
  },
  {
   "cell_type": "markdown",
   "metadata": {},
   "source": [
    ">Best Scores from Logistic R\n",
    "Threshold0.3\n",
    "precision :0.673939498368459  Recall :0.8112417521162546  F1_score 0.7362439558112447:\n",
    "Threshold0.4\n",
    "precision :0.7647168608177676  Recall :0.6373912705305869  F1_score 0.6952728403964987:"
   ]
  },
  {
   "cell_type": "code",
   "execution_count": 70,
   "metadata": {},
   "outputs": [
    {
     "data": {
      "image/png": "[encoded data removed]",
      "text/plain": [
       "<Figure size 432x288 with 1 Axes>"
      ]
     },
     "metadata": {
      "needs_background": "light"
     },
     "output_type": "display_data"
    }
   ],
   "source": [
    "sns.lineplot(x=thresholds,y=prec)\n",
    "sns.lineplot(x=thresholds,y=recall)\n",
    "plt.xlabel(\"Threshold\")\n",
    "plt.title(\"Precision=Recall Curve\")\n",
    "plt.show()"
   ]
  },
  {
   "cell_type": "code",
   "execution_count": null,
   "metadata": {},
   "outputs": [],
   "source": [
    "#ROC AUC Curve\n",
    "from sklearn.metrics import roc_curve\n",
    "fpr,tpr,threshold = roc_curve(y_train,[a[1] for a in y_train_prob])"
   ]
  },
  {
   "cell_type": "code",
   "execution_count": 72,
   "metadata": {},
   "outputs": [
    {
     "data": {
      "image/png": "[encoded data removed]",
      "text/plain": [
       "<Figure size 432x288 with 1 Axes>"
      ]
     },
     "metadata": {
      "needs_background": "light"
     },
     "output_type": "display_data"
    }
   ],
   "source": [
    "sns.lineplot(x=fpr,y=tpr,color='red')\n",
    "plt.xlabel(\"fpr\",fontsize=18)\n",
    "plt.ylabel(\"tpr\",fontsize = 18)\n",
    "plt.title(\"ROC-AUC Curve\",fontsize= 22)\n",
    "plt.show()"
   ]
  },
  {
   "cell_type": "markdown",
   "metadata": {},
   "source": [
    "#### LR_Vanilla_model"
   ]
  },
  {
   "cell_type": "code",
   "execution_count": 73,
   "metadata": {},
   "outputs": [],
   "source": [
    "LR_Vanilla_model = LogisticRegression(penalty=\"l2\",C=0.00001,class_weight=\"None\")"
   ]
  },
  {
   "cell_type": "code",
   "execution_count": 74,
   "metadata": {},
   "outputs": [
    {
     "data": {
      "text/plain": [
       "LogisticRegression(C=1e-05, class_weight='None')"
      ]
     },
     "execution_count": 74,
     "metadata": {},
     "output_type": "execute_result"
    }
   ],
   "source": [
    "LR_Vanilla_model.fit(X_train,y_train)"
   ]
  },
  {
   "cell_type": "code",
   "execution_count": 75,
   "metadata": {},
   "outputs": [],
   "source": [
    "y_train_predict_v = LR_Vanilla_model.predict(X_train)"
   ]
  },
  {
   "cell_type": "code",
   "execution_count": 76,
   "metadata": {},
   "outputs": [],
   "source": [
    "y_train_prob_v = LR_Vanilla_model.predict_proba(X_train)"
   ]
  },
  {
   "cell_type": "code",
   "execution_count": 77,
   "metadata": {},
   "outputs": [
    {
     "name": "stdout",
     "output_type": "stream",
     "text": [
      "precision :0.711541412647703  Recall :0.6611788802323019  F1_score :0.6854362930211931\n"
     ]
    },
    {
     "data": {
      "text/plain": [
       "(0.711541412647703, 0.6611788802323019, 0.6854362930211931)"
      ]
     },
     "execution_count": 77,
     "metadata": {},
     "output_type": "execute_result"
    }
   ],
   "source": [
    "classification_matrix(y_train,y_train_predict_v)"
   ]
  },
  {
   "cell_type": "code",
   "execution_count": 78,
   "metadata": {
    "collapsed": true
   },
   "outputs": [
    {
     "name": "stdout",
     "output_type": "stream",
     "text": [
      "Threshold0.1\n",
      "precision :0.5000032408397664  Recall :1.0  F1_score :0.6666695474069018\n",
      "Threshold0.2\n",
      "precision :0.5000032408397664  Recall :1.0  F1_score :0.6666695474069018\n",
      "Threshold0.3\n",
      "precision :0.5000032408397664  Recall :1.0  F1_score :0.6666695474069018\n",
      "Threshold0.4\n",
      "precision :0.5000032408397664  Recall :1.0  F1_score :0.6666695474069018\n",
      "Threshold0.5\n",
      "precision :0.711541412647703  Recall :0.6611788802323019  F1_score :0.6854362930211931\n",
      "Threshold0.6\n",
      "precision :0.0  Recall :0.0  F1_score :0.0\n",
      "Threshold0.7\n",
      "precision :0.0  Recall :0.0  F1_score :0.0\n",
      "Threshold0.8\n",
      "precision :0.0  Recall :0.0  F1_score :0.0\n",
      "Threshold0.9\n",
      "precision :0.0  Recall :0.0  F1_score :0.0\n"
     ]
    }
   ],
   "source": [
    "thresholds = []\n",
    "prec = []\n",
    "recall = []\n",
    "fbe = []\n",
    "for threshold in range(10,100,10):\n",
    "    thr = threshold/100\n",
    "    y_pred_train2 = proba_class(y_train_prob_v,thr)\n",
    "    print(f\"Threshold{thr}\")\n",
    "    p,r,f = classification_matrix(y_train,y_pred_train2)\n",
    "    prec.append(p)\n",
    "    recall.append(r)\n",
    "    fbe.append(f)\n",
    "    thresholds.append(thr)"
   ]
  },
  {
   "cell_type": "markdown",
   "metadata": {},
   "source": [
    "#### Best Score from Vanilla LR"
   ]
  },
  {
   "cell_type": "markdown",
   "metadata": {},
   "source": [
    "Threshold0.5\n",
    "precision :0.711541412647703  Recall :0.6611788802323019  F1_score 0.6854362930211931"
   ]
  },
  {
   "cell_type": "markdown",
   "metadata": {},
   "source": [
    "#### KNN"
   ]
  },
  {
   "cell_type": "code",
   "execution_count": 79,
   "metadata": {},
   "outputs": [],
   "source": [
    "from sklearn.model_selection import GridSearchCV\n",
    "from sklearn.neighbors import KNeighborsRegressor\n",
    "from sklearn.pipeline import make_pipeline\n",
    "from sklearn import metrics"
   ]
  },
  {
   "cell_type": "code",
   "execution_count": 80,
   "metadata": {},
   "outputs": [],
   "source": [
    "reg_pipe = make_pipeline(StandardScaler(),KNeighborsRegressor())"
   ]
  },
  {
   "cell_type": "code",
   "execution_count": 81,
   "metadata": {},
   "outputs": [
    {
     "data": {
      "text/plain": [
       "Pipeline(steps=[('standardscaler', StandardScaler()),\n",
       "                ('kneighborsregressor', KNeighborsRegressor())])"
      ]
     },
     "execution_count": 81,
     "metadata": {},
     "output_type": "execute_result"
    }
   ],
   "source": [
    "reg_pipe.fit(X_train,y_train)"
   ]
  },
  {
   "cell_type": "code",
   "execution_count": 83,
   "metadata": {},
   "outputs": [],
   "source": [
    "y_train_pred = reg_pipe.predict(X_train)\n",
    "y_test_pred= reg_pipe.predict(X_test)"
   ]
  },
  {
   "cell_type": "code",
   "execution_count": 84,
   "metadata": {},
   "outputs": [
    {
     "data": {
      "text/plain": [
       "(0.2976943568738435, 0.3609272049051787)"
      ]
     },
     "execution_count": 84,
     "metadata": {},
     "output_type": "execute_result"
    }
   ],
   "source": [
    "train_rmse = np.sqrt(metrics.mean_squared_error(y_train,y_train_pred))\n",
    "test_rmse = np.sqrt(metrics.mean_squared_error(y_test,y_test_pred))\n",
    "(train_rmse,test_rmse)"
   ]
  },
  {
   "cell_type": "code",
   "execution_count": 85,
   "metadata": {},
   "outputs": [
    {
     "data": {
      "text/plain": [
       "Pipeline(steps=[('standardscaler', StandardScaler()),\n",
       "                ('kneighborsregressor', KNeighborsRegressor(n_neighbors=3))])"
      ]
     },
     "execution_count": 85,
     "metadata": {},
     "output_type": "execute_result"
    }
   ],
   "source": [
    "reg_pipe2 = make_pipeline(StandardScaler(),KNeighborsRegressor(n_neighbors=3))\n",
    "reg_pipe2.fit(X_train,y_train)"
   ]
  },
  {
   "cell_type": "code",
   "execution_count": 86,
   "metadata": {},
   "outputs": [
    {
     "data": {
      "text/plain": [
       "array([0.45468017, 0.45407939, 0.46087779, 0.46045823, 0.45708958])"
      ]
     },
     "execution_count": 86,
     "metadata": {},
     "output_type": "execute_result"
    }
   ],
   "source": [
    "cross_val_score(reg_pipe2,X_train,y_train,cv=5)"
   ]
  },
  {
   "cell_type": "markdown",
   "metadata": {},
   "source": [
    "#### Linear Regression"
   ]
  },
  {
   "cell_type": "code",
   "execution_count": 87,
   "metadata": {},
   "outputs": [],
   "source": [
    "from sklearn.linear_model import LinearRegression\n",
    "from sklearn.metrics import r2_score,mean_squared_error"
   ]
  },
  {
   "cell_type": "code",
   "execution_count": 88,
   "metadata": {},
   "outputs": [],
   "source": [
    "model = LinearRegression(normalize=True)"
   ]
  },
  {
   "cell_type": "code",
   "execution_count": 89,
   "metadata": {},
   "outputs": [
    {
     "data": {
      "text/plain": [
       "LinearRegression(normalize=True)"
      ]
     },
     "execution_count": 89,
     "metadata": {},
     "output_type": "execute_result"
    }
   ],
   "source": [
    "model.fit(X_train,y_train)"
   ]
  },
  {
   "cell_type": "code",
   "execution_count": 90,
   "metadata": {},
   "outputs": [],
   "source": [
    "y_pred_test = model.predict(X_test)\n",
    "y_pred_train = model.predict(X_train)"
   ]
  },
  {
   "cell_type": "code",
   "execution_count": 91,
   "metadata": {},
   "outputs": [],
   "source": [
    "r2_train = r2_score(y_train,y_pred_train)\n",
    "r2_test = r2_score(y_test,y_pred_test)"
   ]
  },
  {
   "cell_type": "code",
   "execution_count": 92,
   "metadata": {},
   "outputs": [
    {
     "data": {
      "text/plain": [
       "(0.27429545432728963, 0.27205343074112487)"
      ]
     },
     "execution_count": 92,
     "metadata": {},
     "output_type": "execute_result"
    }
   ],
   "source": [
    "(r2_train,r2_test)"
   ]
  },
  {
   "cell_type": "code",
   "execution_count": 93,
   "metadata": {},
   "outputs": [
    {
     "data": {
      "text/plain": [
       "0.4259414706395181"
      ]
     },
     "execution_count": 93,
     "metadata": {},
     "output_type": "execute_result"
    }
   ],
   "source": [
    "np.sqrt(mean_squared_error(y_train,y_pred_train))"
   ]
  },
  {
   "cell_type": "code",
   "execution_count": 94,
   "metadata": {},
   "outputs": [
    {
     "data": {
      "text/plain": [
       "0.426598924369358"
      ]
     },
     "execution_count": 94,
     "metadata": {},
     "output_type": "execute_result"
    }
   ],
   "source": [
    "np.sqrt(mean_squared_error(y_test,y_pred_test))"
   ]
  },
  {
   "cell_type": "code",
   "execution_count": null,
   "metadata": {},
   "outputs": [],
   "source": []
  }
 ],
 "metadata": {
  "kernelspec": {
   "display_name": "Python 3",
   "language": "python",
   "name": "python3"
  },
  "language_info": {
   "codemirror_mode": {
    "name": "ipython",
    "version": 3
   },
   "file_extension": ".py",
   "mimetype": "text/x-python",
   "name": "python",
   "nbconvert_exporter": "python",
   "pygments_lexer": "ipython3",
   "version": "3.8.3"
  }
 },
 "nbformat": 4,
 "nbformat_minor": 4
}
